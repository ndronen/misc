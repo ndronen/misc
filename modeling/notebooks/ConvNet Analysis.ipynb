{
 "cells": [
  {
   "cell_type": "markdown",
   "metadata": {},
   "source": [
    "TODO\n",
    "-------------\n",
    "* FINISH THE PAPER BEFORE LEAVING FOR TAIWAN.\n",
    "* Send first draft to Peter, Mark, Kyle, Jim, and Lakshmi.\n",
    "* Send first revision to Martha and Jordan.\n",
    "* Report human inter-rater reliability (Kappa).\n",
    "* Identify subset of filters that specialize in the window containing the nonce word.\n",
    "* Get all sentences that the model got wrong.  Divide them into groups first by whether the sentence contains an error, then by the current word (i.e. the preposition we care about), then by the gold standard (i.e. the value of the original word target).  Sample one hundred sentences from each group and read them.  For each group, write a hypothesis for why the model failed to predict correctly, and describe an experiment to test the hypothesis. "
   ]
  },
  {
   "cell_type": "code",
   "execution_count": 3,
   "metadata": {
    "collapsed": false
   },
   "outputs": [],
   "source": [
    "%matplotlib inline\n",
    "import matplotlib\n",
    "import matplotlib.pyplot as plt"
   ]
  },
  {
   "cell_type": "code",
   "execution_count": 4,
   "metadata": {
    "collapsed": false
   },
   "outputs": [],
   "source": [
    "run load_model.py"
   ]
  },
  {
   "cell_type": "code",
   "execution_count": 95,
   "metadata": {
    "collapsed": true
   },
   "outputs": [],
   "source": [
    "import json\n",
    "import itertools\n",
    "import numpy as np\n",
    "np.set_printoptions(precision=3)\n",
    "np.set_printoptions(suppress=True)\n",
    "import pandas as pd\n",
    "from sklearn.metrics import confusion_matrix, fbeta_score\n",
    "import sklearn\n",
    "import skll"
   ]
  },
  {
   "cell_type": "code",
   "execution_count": 8,
   "metadata": {
    "collapsed": true
   },
   "outputs": [],
   "source": [
    "def powerset(iterable):\n",
    "    s = list(iterable)\n",
    "    return itertools.chain.from_iterable(\n",
    "            itertools.combinations(s, r) for r in range(len(s)+1))"
   ]
  },
  {
   "cell_type": "code",
   "execution_count": 9,
   "metadata": {
    "collapsed": false
   },
   "outputs": [],
   "source": [
    "model_dir_20m = 'models/preposition/convnet/4e0ae5dc683611e5950afcaa149e39ea'\n",
    "target_data = json.load(open('data/prepositions-all-new-target-data.json'))"
   ]
  },
  {
   "cell_type": "code",
   "execution_count": 10,
   "metadata": {
    "collapsed": false
   },
   "outputs": [
    {
     "name": "stdout",
     "output_type": "stream",
     "text": [
      "[(999552, 5), (999552, 52)]\n",
      "('args', {u'clipnorm': 0, u'shuffle': True, u'target_name': u'original_word_code', u'validation_file': u'data/prepositions-all-new-validate.h5', u'n_word_dims': 50, u'data_name': [u'XwindowNULL', u'X', u'original_word_code'], u'extra_train_file': [u'data/prepositions-all-new-train-60000000/prepositions-all-new-train-60000000-01.h5', u'data/prepositions-all-new-train-60000000/prepositions-all-new-train-60000000-02.h5', u'data/prepositions-all-new-train-60000000/prepositions-all-new-train-60000000-03.h5', u'data/prepositions-all-new-train-60000000/prepositions-all-new-train-60000000-04.h5', u'data/prepositions-all-new-train-60000000/prepositions-all-new-train-60000000-05.h5', u'data/prepositions-all-new-train-60000000/prepositions-all-new-train-60000000-06.h5', u'data/prepositions-all-new-train-60000000/prepositions-all-new-train-60000000-07.h5', u'data/prepositions-all-new-train-60000000/prepositions-all-new-train-60000000-08.h5', u'data/prepositions-all-new-train-60000000/prepositions-all-new-train-60000000-09.h5', u'data/prepositions-all-new-train-60000000/prepositions-all-new-train-60000000-10.h5', u'data/prepositions-all-new-train-60000000/prepositions-all-new-train-60000000-11.h5', u'data/prepositions-all-new-train-60000000/prepositions-all-new-train-60000000-12.h5', u'data/prepositions-all-new-train-60000000/prepositions-all-new-train-60000000-13.h5', u'data/prepositions-all-new-train-60000000/prepositions-all-new-train-60000000-14.h5', u'data/prepositions-all-new-train-60000000/prepositions-all-new-train-60000000-15.h5', u'data/prepositions-all-new-train-60000000/prepositions-all-new-train-60000000-16.h5', u'data/prepositions-all-new-train-60000000/prepositions-all-new-train-60000000-17.h5', u'data/prepositions-all-new-train-60000000/prepositions-all-new-train-60000000-18.h5', u'data/prepositions-all-new-train-60000000/prepositions-all-new-train-60000000-19.h5', u'data/prepositions-all-new-train-60000000/prepositions-all-new-train-60000000-20.h5', u'data/prepositions-all-new-train-60000000/prepositions-all-new-train-60000000-21.h5', u'data/prepositions-all-new-train-60000000/prepositions-all-new-train-60000000-22.h5', u'data/prepositions-all-new-train-60000000/prepositions-all-new-train-60000000-23.h5', u'data/prepositions-all-new-train-60000000/prepositions-all-new-train-60000000-24.h5', u'data/prepositions-all-new-train-60000000/prepositions-all-new-train-60000000-25.h5', u'data/prepositions-all-new-train-60000000/prepositions-all-new-train-60000000-26.h5', u'data/prepositions-all-new-train-60000000/prepositions-all-new-train-60000000-27.h5', u'data/prepositions-all-new-train-60000000/prepositions-all-new-train-60000000-28.h5', u'data/prepositions-all-new-train-60000000/prepositions-all-new-train-60000000-29.h5', u'data/prepositions-all-new-train-60000000/prepositions-all-new-train-60000000-30.h5', u'data/prepositions-all-new-train-60000000/prepositions-all-new-train-60000000-31.h5', u'data/prepositions-all-new-train-60000000/prepositions-all-new-train-60000000-32.h5', u'data/prepositions-all-new-train-60000000/prepositions-all-new-train-60000000-33.h5', u'data/prepositions-all-new-train-60000000/prepositions-all-new-train-60000000-34.h5', u'data/prepositions-all-new-train-60000000/prepositions-all-new-train-60000000-35.h5', u'data/prepositions-all-new-train-60000000/prepositions-all-new-train-60000000-36.h5', u'data/prepositions-all-new-train-60000000/prepositions-all-new-train-60000000-37.h5', u'data/prepositions-all-new-train-60000000/prepositions-all-new-train-60000000-38.h5', u'data/prepositions-all-new-train-60000000/prepositions-all-new-train-60000000-39.h5', u'data/prepositions-all-new-train-60000000/prepositions-all-new-train-60000000-40.h5', u'data/prepositions-all-new-train-60000000/prepositions-all-new-train-60000000-41.h5', u'data/prepositions-all-new-train-60000000/prepositions-all-new-train-60000000-42.h5', u'data/prepositions-all-new-train-60000000/prepositions-all-new-train-60000000-43.h5', u'data/prepositions-all-new-train-60000000/prepositions-all-new-train-60000000-44.h5', u'data/prepositions-all-new-train-60000000/prepositions-all-new-train-60000000-45.h5', u'data/prepositions-all-new-train-60000000/prepositions-all-new-train-60000000-46.h5', u'data/prepositions-all-new-train-60000000/prepositions-all-new-train-60000000-47.h5', u'data/prepositions-all-new-train-60000000/prepositions-all-new-train-60000000-48.h5', u'data/prepositions-all-new-train-60000000/prepositions-all-new-train-60000000-49.h5', u'data/prepositions-all-new-train-60000000/prepositions-all-new-train-60000000-50.h5', u'data/prepositions-all-new-train-60000000/prepositions-all-new-train-60000000-51.h5', u'data/prepositions-all-new-train-60000000/prepositions-all-new-train-60000000-52.h5', u'data/prepositions-all-new-train-60000000/prepositions-all-new-train-60000000-53.h5', u'data/prepositions-all-new-train-60000000/prepositions-all-new-train-60000000-54.h5', u'data/prepositions-all-new-train-60000000/prepositions-all-new-train-60000000-55.h5', u'data/prepositions-all-new-train-60000000/prepositions-all-new-train-60000000-56.h5', u'data/prepositions-all-new-train-60000000/prepositions-all-new-train-60000000-57.h5', u'data/prepositions-all-new-train-60000000/prepositions-all-new-train-60000000-58.h5', u'data/prepositions-all-new-train-60000000/prepositions-all-new-train-60000000-59.h5'], u'n_epochs': 100, u'model_weights': u'models/preposition/convnet/4e0ae5dc683611e5950afcaa149e39ea/model.h5', u'patience': 120, u'input_width': 57, u'dropout_p_conv': 0.0, u'model_cfg': [[u'optimizer', u'Adagrad'], [u'regularization_layer', u'dropout+normalization'], [u'patience', 120], [u'n_filters', 3000], [u'filter_width', 3]], u'classification_report': True, u'border_mode': u'valid', u'log': True, u'decay': 0.0, u'dense_max_norm': 1000, u'use_difference': False, u'target_data': u'data/prepositions-all-new-target-data.json', u'filter_max_norm': 1000, u'model_dir': u'models/preposition/convnet', u'embedding_max_norm': 1000, u'filter_width': 3, u'n_train': inf, u'momentum': 0.9, u'train_embeddings': True, u'n_classes': 9, u'optimizer': u'Adagrad', u'description': u'input = Xwindow X, target = original_word_code, random word vectors, contrasting, 60000000 training examples, Adagrad, dropout, batch normalization, n_filters=3000, filter_width=3, shuffled training data', u'learning_rate': 0.001, u'n_validation': 20000, u'batch_size': 128, u'regularization_layer': u'dropout+normalization', u'loss': u'categorical_crossentropy', u'dropout_p': 0.5, u'no_save': False, u'model_dest': None, u'n_vocab': 100000, u'seed': 17, u'n_filters': 3000, u'error_classes_only': False, u'train_file': u'data/prepositions-all-new-train-60000000/prepositions-all-new-train-60000000-00.h5', u'l2_penalty': 0.0})\n"
     ]
    },
    {
     "name": "stderr",
     "output_type": "stream",
     "text": [
      "Using gpu device 0: GeForce GTX TITAN Black\n"
     ]
    }
   ],
   "source": [
    "m20m = load_model(model_dir_20m, input_file='data/prepositions-all-new-test.h5')"
   ]
  },
  {
   "cell_type": "code",
   "execution_count": 11,
   "metadata": {
    "collapsed": false
   },
   "outputs": [
    {
     "name": "stdout",
     "output_type": "stream",
     "text": [
      "999552/999552 [==============================] - 593s   \n"
     ]
    }
   ],
   "source": [
    "probs = m20m.model.predict_proba(m20m.data)"
   ]
  },
  {
   "cell_type": "code",
   "execution_count": 12,
   "metadata": {
    "collapsed": false
   },
   "outputs": [],
   "source": [
    "preds = np.argmax(probs, axis=1)"
   ]
  },
  {
   "cell_type": "code",
   "execution_count": 37,
   "metadata": {
    "collapsed": true
   },
   "outputs": [],
   "source": [
    "evens = np.arange(0, len(preds), 2)\n",
    "odds = evens + 1"
   ]
  },
  {
   "cell_type": "markdown",
   "metadata": {},
   "source": [
    "Error judgments from annotators\n",
    "======="
   ]
  },
  {
   "cell_type": "code",
   "execution_count": 6,
   "metadata": {
    "collapsed": false
   },
   "outputs": [],
   "source": [
    "# print(m20m.sent_id[4])\n",
    "# print(m20m.sent_id[5])\n",
    "# print(min(m20m.sent_id))\n",
    "# print(max(m20m.sent_id))\n",
    "# print(annotator1['Correct Preposition'][0])\n",
    "# print(target_data['original_word_code']['names'][preds[4]])\n",
    "# print(target_data['original_word_code']['names'][m20m.target[4]])\n",
    "# print(annotator1['Sentence'][0])\n",
    "\n",
    "def merge_ground_truth_and_judgments(annotator_df, annotator_id, metadata, preds, probs, target_data):\n",
    "    \"\"\"\n",
    "    Merge ground truth, human judgments, and model predictions into a single data frame.\n",
    "    \n",
    "    Because of how I sampled the sentences for the humans to annotate, the sentences\n",
    "    in the annotator's data set with IDs < 30600000 are (presumably) error free, and\n",
    "    those with IDs > 30600000 contain a preposition error.  For each sentence ID in\n",
    "    the annotator's data set, I need to find the indices of the two positions in the\n",
    "    test set used by the model, and select the first of the two indices (the one at\n",
    "    an even-numbered index) if the sentence ID < 30600000 and use select the second\n",
    "    of the two if the sentence ID > 30600000.\n",
    "    \n",
    "    Parameters\n",
    "    -----------\n",
    "    metadata : namespace\n",
    "        TODO\n",
    "    preds : np.ndarray\n",
    "        TODO\n",
    "    annotator_df : pandas.DataFrame\n",
    "        TODO\n",
    "    annotator_id : int\n",
    "        The numeric id of the annotator.\n",
    "    target_data : dict of dict\n",
    "        TODO\n",
    "    \n",
    "    Returns\n",
    "    ---------\n",
    "    df : pandas.DataFrame\n",
    "        A data frame with columns 'sent_id', 'annotator_id', 'ground_truth_word', 'ground_truth_word_code',\n",
    "        'annotator_word', 'annotator_word_code', 'annotator_confidence', 'annotator_sent_quality',\n",
    "        'model_word', 'model_word_code' and 'sentence'.  The data frame has one row for each row in `annotator_df`.\n",
    "    \"\"\"\n",
    "    annotator_df = annotator_df.ix[:, 0:5].sort('Sentence id')\n",
    "        \n",
    "    annotator_evens = annotator_df['Sentence id'].values < 30600000\n",
    "    annotator_evens_sent_id = set(annotator_df[annotator_evens]['Sentence id'].values)\n",
    "    annotator_odds = annotator_df['Sentence id'].values > 30600000\n",
    "    annotator_odds_sent_id = set(annotator_df[annotator_odds]['Sentence id'].values)\n",
    "    \n",
    "    assert len(annotator_df) == len(annotator_evens_sent_id) + len(annotator_odds_sent_id)\n",
    "    \n",
    "    new_columns = ['sent_id', 'annotator_id', 'ground_truth_word', 'ground_truth_word_code',\n",
    "        'annotator_word', 'annotator_word_code', 'annotator_confidence', 'annotator_sent_quality',\n",
    "        'model_word', 'model_word_code']\n",
    "\n",
    "    # Set up new data frame with same number of rows as `annotator_df`.\n",
    "    new_df = annotator_df.ix[:, ['Sentence id']].copy()\n",
    "    new_df['sent_id'] = new_df['Sentence id']\n",
    "    del new_df['Sentence id']\n",
    "    \n",
    "    new_df['annotator_id'] = annotator_id\n",
    "    new_df['annotator_word'] = annotator_df['Correct Preposition']\n",
    "    new_df['annotator_word_code'] = [target_data['original_word_code']['names'].index(word)\n",
    "                                 for word in new_df['annotator_word']]\n",
    "    new_df['annotator_confidence'] = annotator_df['Confidence']\n",
    "    new_df['annotator_sent_quality'] = annotator_df['Sentence Quality']\n",
    "    \n",
    "    sent_idx = []\n",
    "    for idx,sent_id in enumerate(metadata.sent_id):\n",
    "        if idx % 2 == 0:\n",
    "            if sent_id in annotator_evens_sent_id:\n",
    "                sent_idx.append(idx)\n",
    "        elif sent_id in annotator_odds_sent_id:\n",
    "            sent_idx.append(idx)\n",
    "    \n",
    "    new_df['ground_truth_word'] = [target_data['original_word_code']['names'][word]\n",
    "                            for word in metadata.target[sent_idx]]\n",
    "    new_df['ground_truth_word_code'] = metadata.target[sent_idx]\n",
    "    \n",
    "    new_df['model_word'] = [target_data['original_word_code']['names'][word]\n",
    "                            for word in preds[sent_idx]]\n",
    "    new_df['model_word_code'] = preds[sent_idx]\n",
    "    new_df['model_max_prob'] = np.max(probs[sent_idx], axis=1)\n",
    "    \n",
    "    new_df['sentence'] = annotator_df['Sentence']\n",
    "    \n",
    "    return new_df"
   ]
  },
  {
   "cell_type": "code",
   "execution_count": null,
   "metadata": {
    "collapsed": true
   },
   "outputs": [],
   "source": [
    "def report_annotator_results(annotator_csv, annotator_id, metadata, preds, probs, target_data):\n",
    "    annotator_df = pd.read_csv(annotator_csv, sep='\\t')\n",
    "    annotator_df = annotator_df.ix[:, 0:5].sort('Sentence id')\n",
    "    new_df = merge_ground_truth_and_judgments(annotator_df, annotator_id, m20m, preds, probs, target_data)\n",
    "    \n",
    "    print('Annotator {id} vs. ground truth'.format(id=annotator_id))\n",
    "    p, r, f1, _ = sklearn.metrics.precision_recall_fscore_support(\n",
    "        new_df.ground_truth_word_code, new_df.annotator_word_code, average='macro')\n",
    "    k = skll.kappa(new_df.ground_truth_word_code, new_df.annotator_word_code)\n",
    "    print('P {precision:.02f} R {recall:.02f} F1 {f1:.02f} Kappa {kappa:.02f}'.format(precision=p, recall=r, f1=f1, kappa=k))\n",
    "\n",
    "    print('Model vs. ground truth')\n",
    "    p, r, f1, _ = sklearn.metrics.precision_recall_fscore_support(\n",
    "        new_df.ground_truth_word_code, new_df.model_word_code, average='macro')\n",
    "    k = skll.kappa(new_df.ground_truth_word_code, new_df.model_word_code)\n",
    "    print('P {precision:.02f} R {recall:.02f} F1 {f1:.02f} Kappa {kappa:.02f}'.format(precision=p, recall=r, f1=f1, kappa=k))\n",
    "\n",
    "    print('Model vs. annotator {id}'.format(id=annotator_id))\n",
    "    p, r, f1, _ = sklearn.metrics.precision_recall_fscore_support(\n",
    "        new_df.annotator_word_code, new_df.model_word_code, average='macro')\n",
    "    k = skll.kappa(new_df.annotator_word_code, new_df.model_word_code)\n",
    "    print('P {precision:.02f} R {recall:.02f} F1 {f1:.02f} Kappa {kappa:.02f}'.format(precision=p, recall=r, f1=f1, kappa=k))"
   ]
  },
  {
   "cell_type": "markdown",
   "metadata": {},
   "source": [
    "Annotator 1\n",
    "----------"
   ]
  },
  {
   "cell_type": "code",
   "execution_count": 118,
   "metadata": {
    "collapsed": false
   },
   "outputs": [
    {
     "name": "stdout",
     "output_type": "stream",
     "text": [
      "Annotator 1 vs. ground truth\n",
      "P 0.80 R 0.80 F1 0.80 Kappa 0.78\n",
      "Model vs. ground truth\n",
      "P 0.84 R 0.83 F1 0.83 Kappa 0.82\n",
      "Model vs. annotator 1\n",
      "P 0.76 R 0.76 F1 0.76 Kappa 0.73\n"
     ]
    }
   ],
   "source": [
    "report_annotator_results(\n",
    "    '/export/home/ndronen/proj/dissertation/projects/cnn/data/annotations/annotator01-results.csv', 1,\n",
    "    m20m, preds, probs, target_data)"
   ]
  },
  {
   "cell_type": "code",
   "execution_count": 4,
   "metadata": {
    "collapsed": false
   },
   "outputs": [],
   "source": [
    "annotator_csv = '/export/home/ndronen/proj/dissertation/projects/cnn/data/annotations/annotator01-results.csv'"
   ]
  },
  {
   "cell_type": "code",
   "execution_count": 7,
   "metadata": {
    "collapsed": false
   },
   "outputs": [
    {
     "ename": "NameError",
     "evalue": "name 'm20m' is not defined",
     "output_type": "error",
     "traceback": [
      "\u001b[1;31m---------------------------------------------------------------------------\u001b[0m",
      "\u001b[1;31mNameError\u001b[0m                                 Traceback (most recent call last)",
      "\u001b[1;32m<ipython-input-7-7968d04a66bf>\u001b[0m in \u001b[0;36m<module>\u001b[1;34m()\u001b[0m\n\u001b[0;32m      1\u001b[0m \u001b[0mannotator_df\u001b[0m \u001b[1;33m=\u001b[0m \u001b[0mpd\u001b[0m\u001b[1;33m.\u001b[0m\u001b[0mread_csv\u001b[0m\u001b[1;33m(\u001b[0m\u001b[0mannotator_csv\u001b[0m\u001b[1;33m,\u001b[0m \u001b[0msep\u001b[0m\u001b[1;33m=\u001b[0m\u001b[1;34m'\\t'\u001b[0m\u001b[1;33m)\u001b[0m\u001b[1;33m\u001b[0m\u001b[0m\n\u001b[0;32m      2\u001b[0m \u001b[0mannotator_df\u001b[0m \u001b[1;33m=\u001b[0m \u001b[0mannotator_df\u001b[0m\u001b[1;33m.\u001b[0m\u001b[0mix\u001b[0m\u001b[1;33m[\u001b[0m\u001b[1;33m:\u001b[0m\u001b[1;33m,\u001b[0m \u001b[1;36m0\u001b[0m\u001b[1;33m:\u001b[0m\u001b[1;36m5\u001b[0m\u001b[1;33m]\u001b[0m\u001b[1;33m.\u001b[0m\u001b[0msort\u001b[0m\u001b[1;33m(\u001b[0m\u001b[1;34m'Sentence id'\u001b[0m\u001b[1;33m)\u001b[0m\u001b[1;33m\u001b[0m\u001b[0m\n\u001b[1;32m----> 3\u001b[1;33m \u001b[0mnew_df\u001b[0m \u001b[1;33m=\u001b[0m \u001b[0mmerge_ground_truth_and_judgments\u001b[0m\u001b[1;33m(\u001b[0m\u001b[0mannotator_df\u001b[0m\u001b[1;33m,\u001b[0m \u001b[1;36m1\u001b[0m\u001b[1;33m,\u001b[0m \u001b[0mm20m\u001b[0m\u001b[1;33m,\u001b[0m \u001b[0mpreds\u001b[0m\u001b[1;33m,\u001b[0m \u001b[0mprobs\u001b[0m\u001b[1;33m,\u001b[0m \u001b[0mtarget_data\u001b[0m\u001b[1;33m)\u001b[0m\u001b[1;33m\u001b[0m\u001b[0m\n\u001b[0m",
      "\u001b[1;31mNameError\u001b[0m: name 'm20m' is not defined"
     ]
    }
   ],
   "source": [
    "annotator_df = pd.read_csv(annotator_csv, sep='\\t')\n",
    "annotator_df = annotator_df.ix[:, 0:5].sort('Sentence id')\n",
    "new_df = merge_ground_truth_and_judgments(annotator_df, 1, m20m, preds, probs, target_data)"
   ]
  },
  {
   "cell_type": "markdown",
   "metadata": {},
   "source": [
    "Error detection\n",
    "========\n",
    "\n",
    "The authors of the Chungdam paper report precision and recall for error detection and correction.  On detection, they report precision of 0.933 with **0.148** recall.  In this section we show that using a simple temporal convolutional network results in a precision of 0.94 at **0.91** recall.  The comparison is not quite apt, as errors are distributed differently in our data.  Error detection is a binary classification task and about half of the sentences in our corpus contain an error.  In the Chungdam corpus, errors are distributed ... how?  Similarly, the frequency of kinds of error is distributed differently in our corpus; the numbers of error are proportional to their occurrence in the original corpus."
   ]
  },
  {
   "cell_type": "code",
   "execution_count": 14,
   "metadata": {
    "collapsed": false
   },
   "outputs": [
    {
     "name": "stdout",
     "output_type": "stream",
     "text": [
      "\n",
      "Confusion matrix for error detection\n",
      "\n",
      "[[469883  29893]\n",
      " [ 42521 457255]]\n",
      "\n",
      "Performance summary of error detection\n",
      "\n",
      "(0.93863671820473449, 0.91491988410808045, 0.92662656901645923, 0.93379549152741737, 999552)\n"
     ]
    }
   ],
   "source": [
    "error_detection_targets = np.ones_like(m20m.current_word_code)\n",
    "error_detection_targets[evens] = 0\n",
    "error_detection_preds = (preds != m20m.current_word_code).astype(int)\n",
    "\n",
    "print('\\nConfusion matrix for error detection\\n')\n",
    "print(confusion_matrix(error_detection_targets, error_detection_preds))\n",
    "\n",
    "print('\\nPerformance summary of error detection\\n')\n",
    "p, r, f, s = precision_recall_fscore_support(error_detection_targets, error_detection_preds, average='binary')\n",
    "fbeta_05 = fbeta_score(error_detection_targets, error_detection_preds, beta=0.5)\n",
    "print(p, r, f, fbeta_05, s)"
   ]
  },
  {
   "cell_type": "markdown",
   "metadata": {},
   "source": [
    "Error correction\n",
    "========\n",
    "\n",
    "On error correction, the authors of the Chungdam corpus paper report precision 0.817 at recall of 0.132.  Our model -- not quite the best performing one we have -- achieves 0.803 precision at a recall of 0.803."
   ]
  },
  {
   "cell_type": "code",
   "execution_count": 89,
   "metadata": {
    "collapsed": false
   },
   "outputs": [
    {
     "name": "stdout",
     "output_type": "stream",
     "text": [
      "Error correction performance on all examples\n",
      "(0.86274067690564371, 0.86294285725719633, 0.86264264051395834, 0.86265195345384826, 999532)\n",
      "Error correction performance only where model prediction differs from actual preposition\n",
      "(0.80535491779318613, 0.80590152353688915, 0.8049575244523588, 0.8050228932109359, 486959)\n"
     ]
    }
   ],
   "source": [
    "error_correction_targets = m20m.target\n",
    "error_correction_preds = preds\n",
    "\n",
    "p, r, f, s = precision_recall_fscore_support(\n",
    "        error_correction_targets, \n",
    "        error_correction_preds)\n",
    "fbeta_05 = fbeta_score(\n",
    "        error_correction_targets,\n",
    "        error_correction_preds,\n",
    "        beta=0.5, average='weighted')\n",
    "\n",
    "print('Error correction performance on all examples')\n",
    "print(p, r, f, fbeta_05, s)\n",
    "\n",
    "error_correction_idx = np.where(error_detection_preds == 1)[0]\n",
    "error_correction_targets = m20m.target[error_correction_idx]\n",
    "error_correction_preds = preds[error_correction_idx]\n",
    "\n",
    "p, r, f, s = precision_recall_fscore_support(\n",
    "        error_correction_targets, \n",
    "        error_correction_preds)\n",
    "fbeta_05 = fbeta_score(\n",
    "        error_correction_targets,\n",
    "        error_correction_preds,\n",
    "        beta=0.5, average='weighted')\n",
    "\n",
    "print('Error correction performance only where model prediction differs from actual preposition')\n",
    "print(p, r, f, fbeta_05, s)"
   ]
  },
  {
   "cell_type": "markdown",
   "metadata": {},
   "source": [
    "Improving error correction\n",
    "==============\n",
    "I'm not sure that I want to improve error correction by imposing requirements on the margins of the softmax output.  I believe a better way to improve error correction is to impose requirements on the margins of the softmax output for error detection.  The effect of that will be to make the model more conservative when it suggests corrections, which should reduce recall and increase precision for error correction."
   ]
  },
  {
   "cell_type": "code",
   "execution_count": 92,
   "metadata": {
    "collapsed": false
   },
   "outputs": [
    {
     "name": "stdout",
     "output_type": "stream",
     "text": [
      "('preds', (999532,))\n",
      "('margin', (999532,))\n",
      "Conservative error detection (0.0 margin requirement)\n",
      "(0.93907495292211463, 0.91501022478519944, 0.926886417188173, 0.93416127295205698, 999532)\n",
      "Conservative error detection (0.1 margin requirement)\n",
      "(0.93907495292211463, 0.91501022478519944, 0.926886417188173, 0.93416127295205698, 999532)\n",
      "Conservative error detection (0.2 margin requirement)\n",
      "(0.93909359205275711, 0.91493819107342234, 0.92685853627884307, 0.93416101102798477, 999532)\n",
      "Conservative error detection (0.3 margin requirement)\n",
      "(0.94011571801912619, 0.90838512423814344, 0.92397808406535697, 0.93359348972878531, 999532)\n",
      "Conservative error detection (0.4 margin requirement)\n",
      "(0.94431592897354444, 0.87970770320509994, 0.91086758123312117, 0.9306460721963643, 999532)\n",
      "Conservative error detection (0.5 margin requirement)\n",
      "(0.95259471623095437, 0.82840969573760515, 0.88617264924334849, 0.92486580866419865, 999532)\n",
      "Conservative error detection (0.6 margin requirement)\n",
      "(0.96392140236115953, 0.76425767259077249, 0.85255554613107853, 0.91605708118479445, 999532)\n",
      "Conservative error detection (0.7 margin requirement)\n",
      "(0.97336330054742093, 0.70018368596503167, 0.8144774052393311, 0.90290858311203226, 999532)\n",
      "Conservative error detection (0.8 margin requirement)\n",
      "(0.98184621459259747, 0.62692139921483259, 0.76523221549617582, 0.88198136014421846, 999532)\n",
      "Conservative error detection (0.9 margin requirement)\n",
      "(0.98985122431173778, 0.52439341611874357, 0.68558468177055876, 0.84062201294577266, 999532)\n",
      "Conservative error detection (0.95 margin requirement)\n",
      "(0.99420799077670574, 0.43482549833321993, 0.60503408538817804, 0.79075435529673077, 999532)\n",
      "\n",
      "Conservative error detection (0.0 margin requirement)\n",
      "(0.86274067690564371, 0.86294285725719633, 0.86264264051395834, 0.86265195345384826, 999532)\n",
      "Conservative error detection (0.1 margin requirement)\n",
      "(0.86274067690564371, 0.86294285725719633, 0.86264264051395834, 0.86265195345384826, 999532)\n",
      "Conservative error detection (0.2 margin requirement)\n",
      "(0.8627442728886987, 0.86294685913007285, 0.86264647769024971, 0.86265565517244003, 999532)\n",
      "Conservative error detection (0.3 margin requirement)\n",
      "(0.86245337730219562, 0.8626727308380322, 0.86236320391805543, 0.8623676850605464, 999532)\n",
      "Conservative error detection (0.4 margin requirement)\n",
      "(0.85959772314727834, 0.85986941888803958, 0.85952351133151716, 0.85951614372583007, 999532)\n",
      "Conservative error detection (0.5 margin requirement)\n",
      "(0.85175048661862651, 0.85205075975556566, 0.85167830970110436, 0.85166721954612901, 999532)\n",
      "Conservative error detection (0.6 margin requirement)\n",
      "(0.83824202959164484, 0.83848341023599049, 0.83812141194613365, 0.83813547047563952, 999532)\n",
      "Conservative error detection (0.7 margin requirement)\n",
      "(0.82055941036443447, 0.8206410600160875, 0.82031875679177479, 0.82039584232626095, 999532)\n",
      "Conservative error detection (0.8 margin requirement)\n",
      "(0.79574327958895741, 0.79548628758258866, 0.79526433393166585, 0.79546859997619779, 999532)\n",
      "Conservative error detection (0.9 margin requirement)\n",
      "(0.75484881237113655, 0.75385180264363727, 0.75383052187705268, 0.75431761477518089, 999532)\n",
      "Conservative error detection (0.95 margin requirement)\n",
      "(0.71546993645757051, 0.7134719048514705, 0.71369781922246933, 0.71457295789658193, 999532)\n"
     ]
    }
   ],
   "source": [
    "conservative_error_detection_results = {}\n",
    "conservative_error_correction_results = {}\n",
    "\n",
    "margin = 0.0\n",
    "print('preds', preds.shape)\n",
    "print('margin', (np.max(probs, axis=1) > margin).shape)\n",
    "\n",
    "for margin in [0.0, 0.1, 0.2, 0.3, 0.4, 0.5, 0.6, 0.7, 0.8, 0.9, 0.95, 0.95]:\n",
    "    conservative_error_detection_preds = ((preds != m20m.current_word_code).astype(bool) & (np.max(probs, axis=1) > margin))\n",
    "    p, r, f, s = precision_recall_fscore_support(\n",
    "            error_detection_targets,\n",
    "            conservative_error_detection_preds, average='binary')\n",
    "    fbeta_05 = fbeta_score(\n",
    "            error_detection_targets,\n",
    "            conservative_error_detection_preds, beta=0.5)\n",
    "    conservative_error_detection_results[str(margin)] = [p, r, f, fbeta_05, s]\n",
    "\n",
    "    conservative_error_correction_targets = m20m.target\n",
    "    # In those cases where the probability of the most probable class is below\n",
    "    # the threshold, the predicted class for error correction should be set to\n",
    "    # that of the preposition that's there in the sentence.  We do this by finding\n",
    "    # the indices of the sentences for which the model did not detect an error using\n",
    "    # the current margin requirement, and setting the error correction predictions\n",
    "    # accordingly.\n",
    "    conservative_error_correction_preds = preds.copy()\n",
    "    conservative_error_correction_idx = conservative_error_detection_preds == 0    \n",
    "    conservative_error_correction_preds[conservative_error_correction_idx] = m20m.current_word_code[conservative_error_correction_idx]\n",
    "\n",
    "    p, r, f, s = precision_recall_fscore_support(\n",
    "            conservative_error_correction_targets, \n",
    "            conservative_error_correction_preds)\n",
    "    fbeta_05 = fbeta_score(\n",
    "            conservative_error_correction_targets,\n",
    "            conservative_error_correction_preds,\n",
    "            beta=0.5, average='weighted')\n",
    "    conservative_error_correction_results[str(margin)] = [p, r, f, fbeta_05, s]\n",
    "    \n",
    "for margin in sorted(conservative_error_detection_results.keys()):\n",
    "    [p, r, f, fbeta_05, s] = conservative_error_detection_results[margin]\n",
    "    print('Conservative error detection ({margin} margin requirement)'.format(margin=margin))\n",
    "    print(p, r, f, fbeta_05, s)\n",
    "\n",
    "print('')\n",
    "    \n",
    "for margin in sorted(conservative_error_correction_results.keys()):\n",
    "    [p, r, f, fbeta_05, s] = conservative_error_correction_results[margin]\n",
    "    print('Conservative error detection ({margin} margin requirement)'.format(margin=margin))\n",
    "    print(p, r, f, fbeta_05, s)"
   ]
  },
  {
   "cell_type": "code",
   "execution_count": 11,
   "metadata": {
    "collapsed": false
   },
   "outputs": [],
   "source": [
    "\n",
    "error_correction_probs = probs[error_correction_idx]\n",
    "indices_of_2_most_probable = np.argsort(error_correction_probs, axis=1)[:, [-1,-2]]\n",
    "error_correction_preds = preds[error_correction_idx]\n",
    "error_correction_targets = m20m.target[error_correction_idx]\n",
    "error_correction_current_word_code = m20m.current_word_code[error_correction_idx]\n",
    "error_correction_length = m20m.len[error_correction_idx]\n",
    "error_correction_data = m20m.data[error_correction_idx, :]\n",
    "error_correction_position = m20m.position[error_correction_idx]"
   ]
  },
  {
   "cell_type": "code",
   "execution_count": 12,
   "metadata": {
    "collapsed": false
   },
   "outputs": [],
   "source": [
    "margin_of_most_probable_and_current = np.zeros(len(error_correction_preds))\n",
    "for i in np.arange(len(error_correction_preds)):\n",
    "    most_probable = indices_of_2_most_probable[i, 0]\n",
    "    prob_of_current = error_correction_probs[i, error_correction_current_word_code[i]]\n",
    "    margin_of_most_probable_and_current[i] = error_correction_probs[i, most_probable] - prob_of_current"
   ]
  },
  {
   "cell_type": "code",
   "execution_count": 13,
   "metadata": {
    "collapsed": false
   },
   "outputs": [
    {
     "data": {
      "text/plain": [
       "<matplotlib.text.Text at 0x7f0cd3e10210>"
      ]
     },
     "execution_count": 13,
     "metadata": {},
     "output_type": "execute_result"
    },
    {
     "data": {
      "image/png": "[encoded data removed]",
      "text/plain": [
       "<matplotlib.figure.Figure at 0x7f0c5689ecd0>"
      ]
     },
     "metadata": {},
     "output_type": "display_data"
    }
   ],
   "source": [
    "error_correction_correct = error_correction_preds == error_correction_targets\n",
    "\n",
    "margin_of_most_probable_and_current_no_error = margin_of_most_probable_and_current[error_correction_correct]\n",
    "margin_of_most_probable_and_current_error = margin_of_most_probable_and_current[~error_correction_correct]\n",
    "\n",
    "plt.figure(figsize=(10,6))\n",
    "bins = np.linspace(0., 1, 40)\n",
    "plt.xticks(np.linspace(0, 1, 11))\n",
    "plt.hist(margin_of_most_probable_and_current_no_error,\n",
    "         bins, alpha=0.5, label='True correction')\n",
    "plt.hist(margin_of_most_probable_and_current_error,\n",
    "         bins, alpha=0.5, label='False correction')\n",
    "plt.legend(loc='upper center')\n",
    "plt.ylim(0, 90000)\n",
    "plt.xlabel('Margin of most probable and actual preposition for error correction')"
   ]
  },
  {
   "cell_type": "markdown",
   "metadata": {},
   "source": [
    "Minimizing the model's erroneous corrections will increase the system's utility in interactive applications.  The system may attempt to correct a preposition when the most probable preposition according to the model differs from the one in the sentence.  If the margin between those probabilities is sufficiently small, however, there is reason to be skeptical of the model's decision.  The above figure illustrates this.  The model makes more mistakes when the margin of probabilities is low.  Requiring that the margin be greater than a value in the range 0.0-0.3 might increase the precision of the error correction system at some cost of recall.\n",
    "\n",
    "To this end, we've implemented a function, `predict_with_min_margin_vs_actual`, that accepts a model's prediction only if the margin between the probability of the most probable preposition and the manifest preposition exceeds some threshold.  The effect of this heuristic on precision and recall is, however, negligible, because the fraction of predictions it changes is quite small."
   ]
  },
  {
   "cell_type": "code",
   "execution_count": 14,
   "metadata": {
    "collapsed": false
   },
   "outputs": [],
   "source": [
    "#error_correction_preds_min_margin = predict_with_min_margin_vs_actual(\n",
    "#        error_correction_probs, error_correction_targets,\n",
    "#        error_correction_current_word_code, min_margin=0.1)\n",
    "\n",
    "# I'm not sure if this implementation is the same approach for evaluation used\n",
    "# in some Chodrow and Tetrault papers (e.g. Chungdam corpus paper, and one by\n",
    "# Chodrow and Tetrault that it cites).\n",
    "error_correction_preds_absolute_threshold, abs_thresh_indices_used = predict_with_absolute_threshold(\n",
    "        error_correction_probs, error_correction_targets, threshold=0.95)"
   ]
  },
  {
   "cell_type": "code",
   "execution_count": 15,
   "metadata": {
    "collapsed": false
   },
   "outputs": [],
   "source": [
    "# print('\\nError correction performance without heuristic\\n')\n",
    "# p, r, f, s = precision_recall_fscore_support(\n",
    "#         error_correction_targets, error_correction_preds)\n",
    "# print(p, r, f, s)\n",
    "\n",
    "# print('\\nError correction performance with absolute threshold heuristic (threshold=0.5)\\n')\n",
    "# p, r, f, s = precision_recall_fscore_support(\n",
    "#         error_correction_targets[abs_thresh_indices_used],\n",
    "#         error_correction_preds_absolute_threshold)\n",
    "# print(p, r, f, s)\n",
    "\n",
    "# print('\\nError correction performance with minimum margin heuristic\\n')\n",
    "# p, r, f, s = precision_recall_fscore_support(\n",
    "#     error_correction_targets, error_correction_preds_min_margin)\n",
    "# print(p, r, f, s)"
   ]
  },
  {
   "cell_type": "code",
   "execution_count": 16,
   "metadata": {
    "collapsed": false
   },
   "outputs": [],
   "source": [
    "margin_of_2_most_probable = np.zeros(len(indices_of_2_most_probable))\n",
    "for i in np.arange(len(error_correction_preds)):\n",
    "    most_probable, next_most_probable = indices_of_2_most_probable[i, :]\n",
    "    margin_of_2_most_probable[i] = error_correction_probs[i, most_probable] - error_correction_probs[i, next_most_probable]"
   ]
  },
  {
   "cell_type": "code",
   "execution_count": 17,
   "metadata": {
    "collapsed": false
   },
   "outputs": [
    {
     "name": "stdout",
     "output_type": "stream",
     "text": [
      "[ 0.989  0.675  0.982 ...,  0.933  0.981  0.997]\n",
      "[ 0.022  0.744  0.562 ...,  0.071  0.125  0.575]\n"
     ]
    },
    {
     "data": {
      "text/plain": [
       "<matplotlib.text.Text at 0x7f0c9e1cdb50>"
      ]
     },
     "execution_count": 17,
     "metadata": {},
     "output_type": "execute_result"
    },
    {
     "data": {
      "image/png": "[encoded data removed]",
      "text/plain": [
       "<matplotlib.figure.Figure at 0x7f0c9e0d6450>"
      ]
     },
     "metadata": {},
     "output_type": "display_data"
    }
   ],
   "source": [
    "margin_of_2_most_probable_no_error = margin_of_2_most_probable[error_correction_correct]\n",
    "margin_of_2_most_probable_error = margin_of_2_most_probable[~error_correction_correct]\n",
    "\n",
    "print(margin_of_2_most_probable_no_error)\n",
    "print(margin_of_2_most_probable_error)\n",
    "\n",
    "bins = np.linspace(0., 1, 40)\n",
    "plt.figure(figsize=(10,6))\n",
    "plt.xticks(np.linspace(0, 1, 11))\n",
    "plt.hist(margin_of_2_most_probable_no_error,\n",
    "         bins, alpha=0.5, label='True correction')\n",
    "plt.hist(margin_of_2_most_probable_error,\n",
    "        bins, alpha=0.5, label='False correction')\n",
    "plt.legend(loc='upper center')\n",
    "plt.xlabel('Margin of 2 most probable for error correction')"
   ]
  },
  {
   "cell_type": "markdown",
   "metadata": {},
   "source": [
    "Effect of length on model performance\n",
    "=======\n",
    "\n",
    "For this particular convolutional network, performance degrades with length.  I should run these reports with and without sentences that contain unknown words, in order to control for that variable."
   ]
  },
  {
   "cell_type": "code",
   "execution_count": 18,
   "metadata": {
    "collapsed": false
   },
   "outputs": [
    {
     "name": "stdout",
     "output_type": "stream",
     "text": [
      "\n",
      "Error correction performance by length\n",
      "\n",
      "01-11 0.83 0.83 0.83  40121\n",
      "11-21 0.82 0.82 0.82 196211\n",
      "21-31 0.80 0.80 0.80 160329\n",
      "31-41 0.79 0.79 0.79  73878\n",
      "41-51 0.78 0.78 0.78  16420\n"
     ]
    }
   ],
   "source": [
    "print('\\nError correction performance by length\\n')\n",
    "for i in range(0, 5):\n",
    "    start = 1 + (i * 10)\n",
    "    end = start + 10\n",
    "    idx = np.where((error_correction_length > start) & (error_correction_length <= end))[0]\n",
    "    p, r, f, s = precision_recall_fscore_support(\n",
    "            error_correction_targets[idx], error_correction_preds[idx])\n",
    "    print(\"{start:02d}-{end:02d} {precision:.2f} {recall:.2f} {f:.2f} {support:6d}\".format(\n",
    "            start=start, end=end, precision=p, recall=r, f=f, support=s))"
   ]
  },
  {
   "cell_type": "markdown",
   "metadata": {},
   "source": [
    "Effect of unknown words on model performance\n",
    "=========\n",
    "\n",
    "I should make sentence length a variable in this section."
   ]
  },
  {
   "cell_type": "code",
   "execution_count": 19,
   "metadata": {
    "collapsed": false,
    "scrolled": false
   },
   "outputs": [
    {
     "name": "stdout",
     "output_type": "stream",
     "text": [
      "0.00 <= 0.00 0.80 0.80 0.80 260180\n",
      "0.00 <= 0.10 0.80 0.80 0.80 155627\n",
      "0.10 <= 0.20 0.83 0.83 0.83  63070\n",
      "0.20 <= 0.30 0.82 0.82 0.82   7091\n",
      "0.30 <= 0.40 0.75 0.75 0.74    853\n",
      "0.40 <= 0.50 0.80 0.75 0.74    116\n",
      "0.50 <= 0.60 0.25 0.40 0.28      5\n",
      "0.60 <= 0.70 0.66 0.47 0.48     17\n"
     ]
    },
    {
     "name": "stderr",
     "output_type": "stream",
     "text": [
      "/export/home/ndronen/miniconda/lib/python2.7/site-packages/sklearn/metrics/classification.py:958: UndefinedMetricWarning: Precision and F-score are ill-defined and being set to 0.0 in labels with no predicted samples.\n",
      "  'precision', 'predicted', average, warn_for)\n",
      "/export/home/ndronen/miniconda/lib/python2.7/site-packages/sklearn/metrics/classification.py:960: UndefinedMetricWarning: Recall and F-score are ill-defined and being set to 0.0 in labels with no true samples.\n",
      "  'recall', 'true', average, warn_for)\n"
     ]
    }
   ],
   "source": [
    "n_unknown_words = np.zeros_like(error_correction_length)\n",
    "for i in np.arange(0, len(error_correction_length)):\n",
    "    n_unknown_words[i] = len(np.where(error_correction_data[i, 0:error_correction_length[i]] == 0)[0])\n",
    "fraction_unknown = n_unknown_words / error_correction_length.astype(float)\n",
    "idx = np.where(fraction_unknown == .0)[0]\n",
    "p, r, f, s = precision_recall_fscore_support(\n",
    "        error_correction_targets[idx], error_correction_preds[idx])\n",
    "print(\"{start:.2f} <= {end:.2f} {precision:.2f} {recall:.2f} {f:.2f} {support:6d}\".format(\n",
    "        start=0., end=0., precision=p, recall=r, f=f, support=s))\n",
    "\n",
    "for i in np.linspace(0, 1, 11):\n",
    "    start = i if i > 0 else 0.0001\n",
    "    end = i + 0.1\n",
    "    idx = np.where((fraction_unknown > start) & (fraction_unknown <= end))[0]\n",
    "    if len(idx) == 0:\n",
    "        continue\n",
    "    p, r, f, s = precision_recall_fscore_support(\n",
    "            error_correction_targets[idx], error_correction_preds[idx])\n",
    "    print(\"{start:.2f} <= {end:.2f} {precision:.2f} {recall:.2f} {f:.2f} {support:6d}\".format(\n",
    "            start=start, end=end, precision=p, recall=r, f=f, support=s))"
   ]
  },
  {
   "cell_type": "markdown",
   "metadata": {},
   "source": [
    "Effect of number of unknown words in window around preposition\n",
    "======="
   ]
  },
  {
   "cell_type": "code",
   "execution_count": 20,
   "metadata": {
    "collapsed": false
   },
   "outputs": [
    {
     "name": "stdout",
     "output_type": "stream",
     "text": [
      "0 0.80 0.80 0.80 362835\n",
      "1 0.76 0.77 0.76  52307\n",
      "2 0.87 0.87 0.87  70207\n",
      "3 0.70 0.72 0.70   1590\n",
      "4 0.58 0.70 0.64     20\n"
     ]
    }
   ],
   "source": [
    "n_unknown_words_in_window = np.zeros_like(error_correction_length)\n",
    "for i in np.arange(0, len(error_correction_length)):\n",
    "    n_unknown_words_in_window[i] = len(np.where(error_correction_data[i, 0:5] == 0)[0])\n",
    "idx = np.where(n_unknown_words_in_window == 0)[0]\n",
    "p, r, f, s = precision_recall_fscore_support(\n",
    "        error_correction_targets[idx], error_correction_preds[idx])\n",
    "print(\"{n:1d} {precision:.2f} {recall:.2f} {f:.2f} {support:6d}\".format(\n",
    "        n=0, precision=p, recall=r, f=f, support=s))\n",
    "\n",
    "for n in range(1, 6):\n",
    "    idx = np.where((n_unknown_words_in_window == n))[0]\n",
    "    if len(idx) == 0:\n",
    "        continue\n",
    "    p, r, f, s = precision_recall_fscore_support(\n",
    "            error_correction_targets[idx], error_correction_preds[idx])\n",
    "    print(\"{n:1d} {precision:.2f} {recall:.2f} {f:.2f} {support:6d}\".format(\n",
    "            n=n, precision=p, recall=r, f=f, support=s))"
   ]
  },
  {
   "cell_type": "markdown",
   "metadata": {},
   "source": [
    "Effect of position of unknown words in window around preposition\n",
    "======="
   ]
  },
  {
   "cell_type": "code",
   "execution_count": 21,
   "metadata": {
    "collapsed": false,
    "scrolled": false
   },
   "outputs": [
    {
     "name": "stdout",
     "output_type": "stream",
     "text": [
      "_ _ P _ _     0.81 0.81 0.80 486959\n",
      "_ _ P _ ?     0.77 0.77 0.77  16545\n",
      "_ _ P ? _     0.74 0.74 0.74  18086\n",
      "_ _ P ? ?     0.80 0.80 0.80   1048\n",
      "_ ? P _ _     0.85 0.86 0.85  75186\n",
      "_ ? P _ ?     0.70 0.72 0.69   1309\n",
      "_ ? P ? _     0.60 0.60 0.58    847\n",
      "_ ? P ? ?     0.42 0.47 0.43     43\n",
      "? _ P _ _     0.86 0.86 0.86  87754\n",
      "? _ P _ ?     0.77 0.78 0.76   1776\n",
      "? _ P ? _     0.71 0.71 0.70   1534\n",
      "? _ P ? ?     0.79 0.73 0.72     79\n",
      "? ? P _ _     0.87 0.88 0.87  68583\n",
      "? ? P _ ?     0.75 0.78 0.74   1012\n",
      "? ? P ? _     0.63 0.63 0.61    536\n",
      "? ? P ? ?     0.58 0.70 0.64     20\n"
     ]
    }
   ],
   "source": [
    "window_size = 5\n",
    "center = 2\n",
    "\n",
    "assert len(np.where(error_correction_data[:, center] == 0)[0]) == 0\n",
    "\n",
    "indices_in_window = [center-2, center-1, center+1, center+2]\n",
    "\n",
    "results = {}\n",
    "\n",
    "for mask in powerset(indices_in_window):\n",
    "    mask = np.array(mask)\n",
    "    idx = []\n",
    "    for i in np.arange(len(error_correction_data)):\n",
    "        zeros_in_right_places = True\n",
    "        for m in mask:\n",
    "            if error_correction_data[i, m] != 0:\n",
    "                zeros_in_right_places = False\n",
    "                break\n",
    "        if zeros_in_right_places:\n",
    "            idx.append(i)\n",
    "    if len(idx) == 0:\n",
    "        continue\n",
    "    unknowns_str = ['_'] * (len(indices_in_window) + 1)\n",
    "    for x in mask:\n",
    "        unknowns_str[x] = \"?\"\n",
    "    unknowns_str[center] = \"P\"\n",
    "    unknowns_str = ' '.join(unknowns_str)\n",
    "    p, r, f, s = precision_recall_fscore_support(\n",
    "            error_correction_targets[idx], error_correction_preds[idx])\n",
    "    results[unknowns_str] = [p, r, f, s]\n",
    "\n",
    "for mask in sorted(results.keys(), reverse=True):\n",
    "    p, r, f, s = results[mask]\n",
    "    print(\"{unknowns}     {precision:.2f} {recall:.2f} {f:.2f} {support:6d}\".format(\n",
    "            unknowns=mask, precision=p, recall=r, f=f, support=s))"
   ]
  },
  {
   "cell_type": "markdown",
   "metadata": {},
   "source": [
    "Sensitivity analysis of effect of position of unknown words in window around preposition\n",
    "=======\n",
    "1. Take all examples in which the window around the preposition contains no unknown words.\n",
    "2. For each set in the powerset of positions in the window (excluding the center, where the preposition occurs):\n",
    "  1. Set the words in that position to be unknown (i.e. assign 0 to that position) for all examples.\n",
    "  2. Run the examples through the model.\n",
    "3. Evaluate the model's performance."
   ]
  },
  {
   "cell_type": "code",
   "execution_count": 22,
   "metadata": {
    "collapsed": false
   },
   "outputs": [],
   "source": [
    "no_unknown_words_data = error_correction_data[n_unknown_words == 0]\n",
    "no_unknown_words_targets = error_correction_targets[n_unknown_words == 0]\n",
    "\n",
    "no_unknown_words_error_detection_targets = error_detection_targets[n_unknown_words == 0]\n",
    "\n",
    "#error_detection_targets = np.ones_like(m20m.current_word_code)\n",
    "#error_detection_targets[evens] = 0\n",
    "#error_detection_preds = (preds != m20m.current_word_code).astype(int)\n",
    "\n",
    "masks = [mask for mask in powerset(indices_in_window)]"
   ]
  },
  {
   "cell_type": "code",
   "execution_count": 23,
   "metadata": {
    "collapsed": false
   },
   "outputs": [
    {
     "name": "stdout",
     "output_type": "stream",
     "text": [
      "50000/50000 [==============================] - 28s    \n",
      "50000/50000 [==============================] - 29s    \n",
      "50000/50000 [==============================] - 30s    \n",
      "50000/50000 [==============================] - 30s    \n",
      "50000/50000 [==============================] - 30s    \n",
      "50000/50000 [==============================] - 30s    \n",
      "50000/50000 [==============================] - 30s    \n",
      "50000/50000 [==============================] - 30s    \n",
      "50000/50000 [==============================] - 30s    \n",
      "50000/50000 [==============================] - 30s    \n",
      "50000/50000 [==============================] - 30s    \n",
      "50000/50000 [==============================] - 30s    \n",
      "50000/50000 [==============================] - 30s    \n",
      "50000/50000 [==============================] - 30s    \n",
      "50000/50000 [==============================] - 29s    \n",
      "50000/50000 [==============================] - 30s    \n",
      "\n",
      "Error correction sensitivity analysis\n",
      "\n",
      "_ _ P _ _     0.80 0.80 0.80  50000\n",
      "? _ P _ _     0.75 0.75 0.75  50000\n",
      "_ ? P _ _     0.62 0.60 0.60  50000\n",
      "_ _ P ? _     0.65 0.62 0.62  50000\n",
      "_ _ P _ ?     0.71 0.70 0.70  50000\n",
      "? ? P _ _     0.55 0.52 0.52  50000\n",
      "? _ P ? _     0.58 0.55 0.55  50000\n",
      "? _ P _ ?     0.66 0.65 0.65  50000\n",
      "_ ? P ? _     0.44 0.39 0.37  50000\n",
      "_ ? P _ ?     0.51 0.48 0.48  50000\n",
      "_ _ P ? ?     0.57 0.53 0.52  50000\n",
      "? ? P ? _     0.38 0.32 0.31  50000\n",
      "? ? P _ ?     0.46 0.42 0.43  50000\n",
      "? _ P ? ?     0.52 0.47 0.46  50000\n",
      "_ ? P ? ?     0.37 0.30 0.26  50000\n",
      "? ? P ? ?     0.30 0.24 0.21  50000\n"
     ]
    }
   ],
   "source": [
    "detection_results = {}\n",
    "correction_results = {}\n",
    "\n",
    "for mask in masks:\n",
    "    data = no_unknown_words_data.copy()[0:50000]\n",
    "    mask = np.array(mask, dtype=int)\n",
    "    \n",
    "    data[:, mask] = 0\n",
    "    \n",
    "    for i in np.arange(len(data)):\n",
    "        data[i, mask + error_correction_position[i] + 3] = 0\n",
    "\n",
    "    no_unknown_words_preds = m20m.model.predict_classes(data)\n",
    "    \n",
    "    unknowns_str = ['_'] * (len(indices_in_window) + 1)\n",
    "    for x in mask:\n",
    "        unknowns_str[x] = \"?\"\n",
    "    unknowns_str[center] = \"P\"\n",
    "    unknowns_str = ' '.join(unknowns_str)\n",
    "    \n",
    "    # Error detection - this does not work yet.\n",
    "#     no_unknown_words_error_detection_preds = np.zeros(shape=len(data))\n",
    "#     no_unknown_words_error_detection_preds[no_unknown_words_preds != no_unknown_words_targets] = 1\n",
    "    \n",
    "#     detection_results[unknowns_str] = list(sklearn.metrics.precision_recall_fscore_support(\n",
    "#            no_unknown_words_error_detection_targets[0:1000],\n",
    "#            no_unknown_words_error_detection_preds[0:1000], average='binary'))\n",
    "#     detection_results[unknowns_str][3] = len(data)\n",
    "    \n",
    "    # Error correction\n",
    "    correction_results[unknowns_str] = precision_recall_fscore_support(\n",
    "            no_unknown_words_targets[0:50000], no_unknown_words_preds)\n",
    "    \n",
    "# print('\\nError detection sensitivity analysis\\n')\n",
    "# for mask in sorted(detection_results.keys(), key=lambda mask: (mask.count(\"?\"), mask)):\n",
    "#     p, r, f, s = detection_results[mask]\n",
    "#     print(p, r, f, s)\n",
    "#     print(\"{unknowns}     {precision:.2f} {recall:.2f} {f:.2f} {support:6d}\".format(\n",
    "#             unknowns=mask, precision=p, recall=r, f=f, support=s))\n",
    "\n",
    "print('\\nError correction sensitivity analysis\\n')\n",
    "for mask in sorted(correction_results.keys(), key=lambda mask: (mask.count(\"?\"), mask)):\n",
    "    p, r, f, s = correction_results[mask]\n",
    "    print(\"{unknowns}     {precision:.2f} {recall:.2f} {f:.2f} {support:6d}\".format(\n",
    "            unknowns=mask, precision=p, recall=r, f=f, support=s))"
   ]
  },
  {
   "cell_type": "code",
   "execution_count": 24,
   "metadata": {
    "collapsed": false
   },
   "outputs": [
    {
     "data": {
      "text/plain": [
       "<matplotlib.text.Text at 0x7f0c9de1ddd0>"
      ]
     },
     "execution_count": 24,
     "metadata": {},
     "output_type": "execute_result"
    },
    {
     "data": {
      "image/png": "[encoded data removed]",
      "text/plain": [
       "<matplotlib.figure.Figure at 0x7f0c5689ec50>"
      ]
     },
     "metadata": {},
     "output_type": "display_data"
    }
   ],
   "source": [
    "bins = np.linspace(0., .5, 10)\n",
    "plt.hist(fraction_unknown[error_correction_targets == error_correction_preds],\n",
    "         bins, alpha=0.5, label='Correct prediction')\n",
    "plt.hist(fraction_unknown[error_correction_targets != error_correction_preds],\n",
    "         bins, alpha=0.5, label='Incorrect prediction')\n",
    "plt.legend(loc='upper right')\n",
    "plt.xlabel('Fraction of unknown words in sentence')"
   ]
  },
  {
   "cell_type": "markdown",
   "metadata": {},
   "source": [
    "Error detection performance conditioned on original (correct) preposition (i.e. the target variable)\n",
    "========\n",
    "\"For\" is the preposition with the lowest precision, recall, F-1, and F-0.5."
   ]
  },
  {
   "cell_type": "code",
   "execution_count": 25,
   "metadata": {
    "collapsed": false
   },
   "outputs": [
    {
     "name": "stdout",
     "output_type": "stream",
     "text": [
      "0 at    0.94 0.91 0.92 0.93  95080\n",
      "1 by    0.94 0.92 0.93 0.94  95280\n",
      "2 for   0.90 0.87 0.89 0.90  97520\n",
      "3 from  0.90 0.89 0.89 0.89  90416\n",
      "4 in    0.96 0.93 0.95 0.96 193986\n",
      "5 of    0.96 0.93 0.94 0.95 111904\n",
      "6 on    0.93 0.91 0.92 0.93 108802\n",
      "7 to    0.96 0.95 0.96 0.96 113114\n",
      "8 with  0.93 0.89 0.91 0.92  93430\n"
     ]
    }
   ],
   "source": [
    "for code, word in enumerate(target_data['original_word_code']['names']):\n",
    "    targets_with_code_idx = np.where(m20m.target == code)[0]\n",
    "    error_detection_targets_word = error_detection_targets[targets_with_code_idx]\n",
    "    error_detection_preds_word = (\n",
    "        preds[targets_with_code_idx] != m20m.current_word_code[targets_with_code_idx]\n",
    "    ).astype(int)\n",
    "\n",
    "    p, r, f, s = precision_recall_fscore_support(\n",
    "            error_detection_targets_word,\n",
    "            error_detection_preds_word,\n",
    "            average='binary')\n",
    "    \n",
    "    fbeta_05 = fbeta_score(\n",
    "            error_detection_targets_word,\n",
    "            error_detection_preds_word,\n",
    "        beta=0.5)\n",
    "    \n",
    "    print(\"{code} {word:5s} {precision:.2f} {recall:.2f} {f1:.2f} {fbeta:.2f} {n:6d}\".format(\n",
    "            code=code, word=word, precision=p, recall=r, f1=f, fbeta=fbeta_05, n=s))"
   ]
  },
  {
   "cell_type": "markdown",
   "metadata": {},
   "source": [
    "Error detection performance conditioned on actual (possibly incorrect) preposition\n",
    "=======\n",
    "We would like to measure the difficulty of detecting an error given the actual preposition.  The prepositions with the lowest precision, recall, and F1, and F-0.5 are \"for\", \"in\", \"in\", and \"for\", respectively."
   ]
  },
  {
   "cell_type": "code",
   "execution_count": 26,
   "metadata": {
    "collapsed": false
   },
   "outputs": [
    {
     "name": "stdout",
     "output_type": "stream",
     "text": [
      "0 at    0.95 0.93 0.94 0.94 104444\n",
      "1 by    0.95 0.92 0.93 0.94 104430\n",
      "2 for   0.92 0.89 0.90 0.91 105330\n",
      "3 from  0.92 0.92 0.92 0.92 102128\n",
      "4 in    0.92 0.88 0.90 0.91 147347\n",
      "5 of    0.96 0.94 0.95 0.95 111355\n",
      "6 on    0.94 0.92 0.93 0.93 109879\n",
      "7 to    0.96 0.94 0.95 0.96 111658\n",
      "8 with  0.94 0.89 0.92 0.93 102961\n"
     ]
    }
   ],
   "source": [
    "for code, word in enumerate(target_data['current_word_code']['names']):\n",
    "    targets_with_code_idx = np.where(m20m.current_word_code == code)[0]\n",
    "    error_detection_targets_word = error_detection_targets[targets_with_code_idx]\n",
    "    error_detection_preds_word = (preds[targets_with_code_idx] != m20m.current_word_code[targets_with_code_idx]).astype(int)\n",
    "\n",
    "    p, r, f, s = precision_recall_fscore_support(error_detection_targets_word, error_detection_preds_word, average='binary')\n",
    "    fbeta_05 = fbeta_score(error_detection_targets_word, error_detection_preds_word, beta=0.5)\n",
    "    print(\"{code} {word:5s} {precision:.2f} {recall:.2f} {f1:.2f} {fbeta:.2f} {n:6d}\".format(\n",
    "            code=code, word=word, precision=p, recall=r, f1=f, fbeta=fbeta_05, n=s))"
   ]
  },
  {
   "cell_type": "markdown",
   "metadata": {},
   "source": [
    "Error correction performance conditioned on actual (possibly incorrect) preposition and original (correct) preposition\n",
    "========"
   ]
  },
  {
   "cell_type": "code",
   "execution_count": 27,
   "metadata": {
    "collapsed": false,
    "scrolled": false
   },
   "outputs": [
    {
     "name": "stdout",
     "output_type": "stream",
     "text": [
      "The 20 most difficult current-original word pairs\n",
      "\n",
      "   current_word original_word  precision  recall    f1   f1macro     n\n",
      "29         from           for       0.74    0.75  0.75  8.46e-03  5501\n",
      "65           to           for       0.75    0.75  0.75  8.36e-03  5427\n",
      "56           on           for       0.74    0.76  0.75  8.14e-03  5288\n",
      "47           of           for       0.75    0.76  0.75  8.13e-03  5265\n",
      "2            at           for       0.76    0.76  0.76  8.77e-03  5616\n",
      "38           in           for       0.75    0.78  0.76  7.92e-03  5064\n",
      "11           by           for       0.76    0.76  0.76  8.43e-03  5386\n",
      "74         with           for       0.75    0.78  0.77  7.55e-03  4796\n",
      "35         from          with       0.73    0.81  0.77  8.40e-03  5317\n",
      "62           on          with       0.73    0.81  0.77  8.19e-03  5181\n",
      "71           to          with       0.74    0.81  0.77  8.51e-03  5376\n",
      "53           of          with       0.74    0.80  0.77  8.64e-03  5455\n",
      "26          for          with       0.72    0.84  0.77  7.68e-03  4829\n",
      "8            at          with       0.74    0.82  0.78  8.48e-03  5320\n",
      "44           in          with       0.74    0.82  0.78  8.24e-03  5161\n",
      "17           by          with       0.74    0.82  0.78  8.09e-03  5065\n",
      "66           to          from       0.80    0.75  0.78  8.33e-03  5213\n",
      "48           of          from       0.81    0.76  0.79  8.44e-03  5230\n",
      "75         with          from       0.80    0.78  0.79  7.92e-03  4900\n",
      "3            at          from       0.81    0.78  0.79  8.12e-03  5000\n",
      "\n",
      "The 20 easiest current-original word pairs\n",
      "\n",
      "   current_word original_word  precision  recall    f1  f1macro      n\n",
      "32         from            of       0.83    0.90  0.86     0.01   6573\n",
      "58           on            in       0.83    0.90  0.86     0.02  11157\n",
      "67           to            in       0.85    0.89  0.87     0.02  11583\n",
      "41           in            of       0.81    0.92  0.87     0.01   6165\n",
      "49           of            in       0.83    0.90  0.87     0.02  11297\n",
      "23          for            of       0.82    0.91  0.87     0.01   6077\n",
      "4            at            in       0.84    0.90  0.87     0.02  11263\n",
      "22          for            in       0.83    0.91  0.87     0.02  11041\n",
      "14           by            of       0.85    0.89  0.87     0.01   6755\n",
      "77         with            of       0.84    0.91  0.87     0.01   6413\n",
      "5            at            of       0.84    0.90  0.87     0.01   6821\n",
      "76         with            in       0.85    0.90  0.87     0.02  11194\n",
      "34         from            to       0.85    0.93  0.89     0.01   6707\n",
      "7            at            to       0.87    0.91  0.89     0.01   6941\n",
      "52           of            to       0.87    0.92  0.89     0.01   6767\n",
      "16           by            to       0.87    0.92  0.90     0.01   6763\n",
      "25          for            to       0.86    0.93  0.90     0.01   6536\n",
      "61           on            to       0.88    0.92  0.90     0.01   6755\n",
      "79         with            to       0.87    0.93  0.90     0.01   6563\n",
      "43           in            to       0.87    0.94  0.90     0.01   6621\n",
      "\n"
     ]
    },
    {
     "data": {
      "text/plain": [
       "0.78035331769475813"
      ]
     },
     "execution_count": 27,
     "metadata": {},
     "output_type": "execute_result"
    }
   ],
   "source": [
    "correction_conditioned_actual_orig = []\n",
    "\n",
    "n_error_correction = (error_detection_preds == 1).sum()\n",
    "\n",
    "for current_word_code, current_word in enumerate(target_data['current_word_code']['names']):\n",
    "    # Error correction performance is only computed over the examples for which\n",
    "    # the model's predicted preposition differs from the actual preposition.\n",
    "    \n",
    "    # First find the examples for which the model's predicted preposition differs from\n",
    "    # the actual preposition.\n",
    "    error_correction_mask = error_detection_preds == 1\n",
    "    \n",
    "    # Then find the examples that have the given original preposition.\n",
    "    targets_with_code = m20m.current_word_code == current_word_code\n",
    "    \n",
    "    targets_with_code_idx = np.where(error_correction_mask & targets_with_code)[0]\n",
    "    error_correction_targets_word = m20m.target[targets_with_code_idx]\n",
    "    error_correction_preds_word = preds[targets_with_code_idx]\n",
    "    \n",
    "    error_correction_targets_word = error_correction_targets_word\n",
    "    error_correction_preds_word = error_correction_preds_word\n",
    "    \n",
    "#     print(current_word)\n",
    "#     print_classification_report(\n",
    "#             error_correction_targets_word,\n",
    "#             error_correction_preds_word,\n",
    "#             target_names=target_data['original_word_code']['names'])\n",
    "\n",
    "    p, r, f, s = precision_recall_fscore_support(\n",
    "            error_correction_targets_word,\n",
    "            error_correction_preds_word,\n",
    "            average=None)\n",
    "    \n",
    "    for original_word_code, original_word in enumerate(target_data['original_word_code']['names']):\n",
    "        f1_macro = f[original_word_code] * s[original_word_code] / n_error_correction\n",
    "        correction_conditioned_actual_orig.append({\n",
    "                'current_word': current_word,\n",
    "                'original_word': original_word,\n",
    "                'precision': p[original_word_code],\n",
    "                'recall': r[original_word_code],\n",
    "                'f1': f[original_word_code],\n",
    "                'f1macro': f1_macro,\n",
    "                'n': s[original_word_code]\n",
    "            })\n",
    "    \n",
    "#     print(p, r, f, s)\n",
    "#     fbeta_05 = fbeta_score(\n",
    "#             error_correction_targets_word,\n",
    "#             error_correction_preds_word,\n",
    "#             beta=0.5, average='weighted')\n",
    "#     print(\"{word:5s} {precision:.2f} {recall:.2f} {f1:.2f} {fbeta:.2f} {n:6d}\".format(\n",
    "#             word=current_word, precision=p, recall=r, f1=f, fbeta=fbeta_05, n=s))\n",
    "    \n",
    "df = pd.DataFrame(correction_conditioned_actual_orig)\n",
    "df = df.sort(['f1'])\n",
    "df = df[['current_word', 'original_word', 'precision', 'recall', 'f1', 'f1macro', 'n']]\n",
    "pd.set_option('display.precision', 3)\n",
    "\n",
    "print('The 20 most difficult current-original word pairs\\n')\n",
    "print(df[df.precision > 0].head(n=20))\n",
    "print('')\n",
    "\n",
    "print('The 20 easiest current-original word pairs\\n')\n",
    "print(df[df.precision > 0].tail(n=20))\n",
    "print('')\n",
    "\n",
    "df[df.precision > 0].f1macro.sum()"
   ]
  },
  {
   "cell_type": "code",
   "execution_count": 28,
   "metadata": {
    "collapsed": false
   },
   "outputs": [
    {
     "data": {
      "text/plain": [
       "array([ 95080,  95280,  97520,  90416, 193986, 111904, 108802, 113114,\n",
       "        93430])"
      ]
     },
     "execution_count": 28,
     "metadata": {},
     "output_type": "execute_result"
    }
   ],
   "source": [
    "np.bincount(m20m.target)"
   ]
  },
  {
   "cell_type": "code",
   "execution_count": 29,
   "metadata": {
    "collapsed": false
   },
   "outputs": [
    {
     "data": {
      "text/plain": [
       "[u'at', u'by', u'for', u'from', u'in', u'of', u'on', u'to', u'with']"
      ]
     },
     "execution_count": 29,
     "metadata": {},
     "output_type": "execute_result"
    }
   ],
   "source": [
    "target_data['original_word_code']['names']"
   ]
  },
  {
   "cell_type": "code",
   "execution_count": 30,
   "metadata": {
    "collapsed": false
   },
   "outputs": [
    {
     "name": "stdout",
     "output_type": "stream",
     "text": [
      "   current_word original_word  precision  recall    f1   f1macro      n\n",
      "29         from           for       0.74    0.75  0.75  8.46e-03   5501\n",
      "65           to           for       0.75    0.75  0.75  8.36e-03   5427\n",
      "56           on           for       0.74    0.76  0.75  8.14e-03   5288\n",
      "47           of           for       0.75    0.76  0.75  8.13e-03   5265\n",
      "2            at           for       0.76    0.76  0.76  8.77e-03   5616\n",
      "38           in           for       0.75    0.78  0.76  7.92e-03   5064\n",
      "11           by           for       0.76    0.76  0.76  8.43e-03   5386\n",
      "74         with           for       0.75    0.78  0.77  7.55e-03   4796\n",
      "35         from          with       0.73    0.81  0.77  8.40e-03   5317\n",
      "62           on          with       0.73    0.81  0.77  8.19e-03   5181\n",
      "71           to          with       0.74    0.81  0.77  8.51e-03   5376\n",
      "53           of          with       0.74    0.80  0.77  8.64e-03   5455\n",
      "26          for          with       0.72    0.84  0.77  7.68e-03   4829\n",
      "8            at          with       0.74    0.82  0.78  8.48e-03   5320\n",
      "44           in          with       0.74    0.82  0.78  8.24e-03   5161\n",
      "17           by          with       0.74    0.82  0.78  8.09e-03   5065\n",
      "66           to          from       0.80    0.75  0.78  8.33e-03   5213\n",
      "48           of          from       0.81    0.76  0.79  8.44e-03   5230\n",
      "75         with          from       0.80    0.78  0.79  7.92e-03   4900\n",
      "3            at          from       0.81    0.78  0.79  8.12e-03   5000\n",
      "12           by          from       0.80    0.78  0.79  8.13e-03   4984\n",
      "21          for          from       0.80    0.79  0.79  8.23e-03   5039\n",
      "57           on          from       0.81    0.78  0.80  8.20e-03   5021\n",
      "27         from            at       0.75    0.85  0.80  8.75e-03   5354\n",
      "39           in          from       0.81    0.80  0.80  8.15e-03   4942\n",
      "63           to            at       0.79    0.82  0.81  9.41e-03   5677\n",
      "28         from            by       0.76    0.86  0.81  9.02e-03   5433\n",
      "73         with            by       0.76    0.87  0.81  8.64e-03   5199\n",
      "72         with            at       0.78    0.85  0.81  8.76e-03   5273\n",
      "19          for            by       0.76    0.87  0.81  8.99e-03   5410\n",
      "9            by            at       0.79    0.83  0.81  9.19e-03   5511\n",
      "45           of            at       0.80    0.83  0.82  9.51e-03   5675\n",
      "18          for            at       0.79    0.85  0.82  9.01e-03   5379\n",
      "64           to            by       0.79    0.85  0.82  9.44e-03   5632\n",
      "55           on            by       0.77    0.87  0.82  9.38e-03   5588\n",
      "36           in            at       0.79    0.85  0.82  8.51e-03   5070\n",
      "54           on            at       0.78    0.86  0.82  8.78e-03   5220\n",
      "46           of            by       0.80    0.84  0.82  9.66e-03   5741\n",
      "37           in            by       0.77    0.88  0.82  9.04e-03   5338\n",
      "1            at            by       0.79    0.87  0.82  9.62e-03   5681\n",
      "33         from            on       0.80    0.85  0.83  1.06e-02   6220\n",
      "69           to            on       0.82    0.84  0.83  1.10e-02   6470\n",
      "15           by            on       0.81    0.85  0.83  1.08e-02   6359\n",
      "51           of            on       0.82    0.84  0.83  1.10e-02   6458\n",
      "6            at            on       0.82    0.86  0.84  1.06e-02   6176\n",
      "42           in            on       0.81    0.87  0.84  1.03e-02   5980\n",
      "78         with            on       0.82    0.87  0.84  1.04e-02   6000\n",
      "24          for            on       0.82    0.87  0.85  1.04e-02   6003\n",
      "31         from            in       0.82    0.90  0.85  2.01e-02  11463\n",
      "68           to            of       0.82    0.89  0.86  1.15e-02   6537\n",
      "13           by            in       0.82    0.90  0.86  2.02e-02  11470\n",
      "59           on            of       0.83    0.90  0.86  1.17e-02   6606\n",
      "32         from            of       0.83    0.90  0.86  1.17e-02   6573\n",
      "58           on            in       0.83    0.90  0.86  1.98e-02  11157\n",
      "67           to            in       0.85    0.89  0.87  2.06e-02  11583\n",
      "41           in            of       0.81    0.92  0.87  1.10e-02   6165\n",
      "49           of            in       0.83    0.90  0.87  2.01e-02  11297\n",
      "23          for            of       0.82    0.91  0.87  1.08e-02   6077\n",
      "4            at            in       0.84    0.90  0.87  2.01e-02  11263\n",
      "22          for            in       0.83    0.91  0.87  1.97e-02  11041\n",
      "14           by            of       0.85    0.89  0.87  1.21e-02   6755\n",
      "77         with            of       0.84    0.91  0.87  1.15e-02   6413\n",
      "5            at            of       0.84    0.90  0.87  1.22e-02   6821\n",
      "76         with            in       0.85    0.90  0.87  2.01e-02  11194\n",
      "34         from            to       0.85    0.93  0.89  1.22e-02   6707\n",
      "7            at            to       0.87    0.91  0.89  1.27e-02   6941\n",
      "52           of            to       0.87    0.92  0.89  1.24e-02   6767\n",
      "16           by            to       0.87    0.92  0.90  1.24e-02   6763\n",
      "25          for            to       0.86    0.93  0.90  1.20e-02   6536\n",
      "61           on            to       0.88    0.92  0.90  1.25e-02   6755\n",
      "79         with            to       0.87    0.93  0.90  1.22e-02   6563\n",
      "43           in            to       0.87    0.94  0.90  1.23e-02   6621\n"
     ]
    }
   ],
   "source": [
    "pd.set_option('display.max_rows', 100)\n",
    "print(df[df.precision > 0])"
   ]
  },
  {
   "cell_type": "markdown",
   "metadata": {},
   "source": [
    "Correlation of number of examples and performance\n",
    "===========\n",
    "The distribution of errors in the validation set is proportional to that of the training set.  The figures and tables below explore the relationship between the number of training examples and the performance on each kind of example."
   ]
  },
  {
   "cell_type": "code",
   "execution_count": 31,
   "metadata": {
    "collapsed": false
   },
   "outputs": [
    {
     "data": {
      "text/plain": [
       "<matplotlib.legend.Legend at 0x7f0c9da0b750>"
      ]
     },
     "execution_count": 31,
     "metadata": {},
     "output_type": "execute_result"
    },
    {
     "data": {
      "image/png": "[encoded data removed]",
      "text/plain": [
       "<matplotlib.figure.Figure at 0x7f0c9da0b9d0>"
      ]
     },
     "metadata": {},
     "output_type": "display_data"
    }
   ],
   "source": [
    "plt.figure(figsize=(15,8))\n",
    "cols = ['red', 'blue', 'green', 'magenta', 'yellow', 'pink', 'cyan', 'brown', 'gray', 'black']\n",
    "for i, original_word in enumerate(target_data['original_word_code']['names']):\n",
    "    df_original_word = df[(df.f1 > 0) & (df.original_word == original_word)]\n",
    "    plt.scatter(df_original_word.n, df_original_word.f1, c=cols[i], label=original_word, s=40)\n",
    "plt.legend(loc='lower right')"
   ]
  },
  {
   "cell_type": "code",
   "execution_count": 32,
   "metadata": {
    "collapsed": true
   },
   "outputs": [],
   "source": [
    "df_without_in = df[df.original_word != 'in']"
   ]
  },
  {
   "cell_type": "code",
   "execution_count": 33,
   "metadata": {
    "collapsed": false
   },
   "outputs": [
    {
     "data": {
      "text/plain": [
       "<matplotlib.collections.PathCollection at 0x7f0c9d968bd0>"
      ]
     },
     "execution_count": 33,
     "metadata": {},
     "output_type": "execute_result"
    },
    {
     "data": {
      "image/png": "[encoded data removed]",
      "text/plain": [
       "<matplotlib.figure.Figure at 0x7f0c9da0b850>"
      ]
     },
     "metadata": {},
     "output_type": "display_data"
    }
   ],
   "source": [
    "cols = [target_data['original_word_code']['names'].index(w) for w in df_without_in[df_without_in.f1 > 0].original_word]\n",
    "plt.scatter(df_without_in[df_without_in.f1 > 0].n, df_without_in[df_without_in.f1 > 0].f1, c=cols)"
   ]
  },
  {
   "cell_type": "code",
   "execution_count": 34,
   "metadata": {
    "collapsed": false
   },
   "outputs": [
    {
     "data": {
      "text/plain": [
       "array([[ 1.   ,  0.856],\n",
       "       [ 0.856,  1.   ]])"
      ]
     },
     "execution_count": 34,
     "metadata": {},
     "output_type": "execute_result"
    }
   ],
   "source": [
    "np.corrcoef(df_without_in[df_without_in.f1 > 0].n, df_without_in[df_without_in.f1 > 0].f1)"
   ]
  },
  {
   "cell_type": "markdown",
   "metadata": {},
   "source": [
    "Sizes of things\n",
    "========"
   ]
  },
  {
   "cell_type": "code",
   "execution_count": 35,
   "metadata": {
    "collapsed": false
   },
   "outputs": [],
   "source": [
    "train_size = 59972006\n",
    "validation_size = 999532\n",
    "test_size = 999552"
   ]
  },
  {
   "cell_type": "code",
   "execution_count": 36,
   "metadata": {
    "collapsed": false
   },
   "outputs": [
    {
     "name": "stdout",
     "output_type": "stream",
     "text": [
      "at                     95080\n",
      "by                     95280\n",
      "for                    97520\n",
      "from                   90416\n",
      "in                    193986\n",
      "of                    111904\n",
      "on                    108802\n",
      "to                    113114\n",
      "with                   93430\n"
     ]
    }
   ],
   "source": [
    "for original_word_code, original_word in enumerate(target_data['original_word_code']['names']):\n",
    "    n = (m20m.target == original_word_code).sum()\n",
    "    print(\"{word:20s} {n:7d}\".format(word=original_word, n=n))"
   ]
  },
  {
   "cell_type": "code",
   "execution_count": 37,
   "metadata": {
    "collapsed": false
   },
   "outputs": [
    {
     "name": "stdout",
     "output_type": "stream",
     "text": [
      "[ 0.033  0.046  0.072  0.036  0.17   0.32   0.051  0.215  0.056]\n"
     ]
    }
   ],
   "source": [
    "google_n_gram_pcts = np.array([.3015, .4219, .6588, .3345, 1.559, 2.939, .4719, 1.976, .516])\n",
    "normalized_google_n_gram_pcts = google_n_gram_pcts / google_n_gram_pcts.sum()\n",
    "print(normalized_google_n_gram_pcts)"
   ]
  },
  {
   "cell_type": "code",
   "execution_count": null,
   "metadata": {
    "collapsed": true
   },
   "outputs": [],
   "source": []
  }
 ],
 "metadata": {
  "kernelspec": {
   "display_name": "Python 2",
   "language": "python",
   "name": "python2"
  },
  "language_info": {
   "codemirror_mode": {
    "name": "ipython",
    "version": 2
   },
   "file_extension": ".py",
   "mimetype": "text/x-python",
   "name": "python",
   "nbconvert_exporter": "python",
   "pygments_lexer": "ipython2",
   "version": "2.7.10"
  }
 },
 "nbformat": 4,
 "nbformat_minor": 0
}
