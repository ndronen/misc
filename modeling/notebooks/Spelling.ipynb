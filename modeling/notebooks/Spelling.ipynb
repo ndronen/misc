{
 "cells": [
  {
   "cell_type": "markdown",
   "metadata": {},
   "source": [
    "TODO\n",
    "========\n",
    "* ALL DONE: Enhance function that builds a dataset to:  \n",
    "  * Assign context IDs to each example to make it easier to prevent data leakage (see next section).\n",
    "  * Return a data frame.\n",
    "  * Return the (precise) type of error(s) for each example.\n",
    "  * Return the edit distance to the nearest term in the dictionary.\n",
    "  * Return the lengths of the target term (the correct spelling).\n",
    "  * Use different characters for leading and trailing context.\n",
    "* Enhance function that splits dataset into train-validate-test to:\n",
    "  * Eliminate data leakage by ensuring that contexts in the training set do not occur in the validation or test sets.\n",
    "* Refine the noise model:\n",
    "  * Study corpora of actual spelling errors for error patterns.\n",
    "  * Separate the sampling of characters from the maniupulation of tokens.  The sampling of characters (e.g. to be inserted) should be done using an abstraction that allows for multiple strategies, such as:\n",
    "   * Sampling characters from the token itself.\n",
    "   * Sampling characters from a given character's neighbors on the QWERTY keyboard.\n",
    "* Implement partitioned input model using lasagne.  (I had thought to do this with chainer, but chainer's embedding layer only supports minibatches of size 1, which makes training incredibly slow.)\n",
    "* Establish baselines:\n",
    "  * Non-contextual spelling correction using Norvig's code.\n",
    "  * Non-contextual spelling correction using convolutional network (filter widths 2, 3, 4).\n",
    "* Error analysis:\n",
    "  * Are the errors of the non-contextual convolutional spelling correction model related to any of the following factors:\n",
    "    * The length of the misspelled token.\n",
    "    * The edit distance of the misspelled token to the nearest terms in the model's vocabulary."
   ]
  },
  {
   "cell_type": "code",
   "execution_count": 11,
   "metadata": {
    "collapsed": true
   },
   "outputs": [],
   "source": [
    "import numpy as np"
   ]
  },
  {
   "cell_type": "code",
   "execution_count": 12,
   "metadata": {
    "collapsed": true
   },
   "outputs": [],
   "source": [
    "model_dir = 'models/spelling/convnet/a17db3c8736e11e5b32922000aec9897/'"
   ]
  },
  {
   "cell_type": "code",
   "execution_count": 13,
   "metadata": {
    "collapsed": true
   },
   "outputs": [],
   "source": [
    "run load_model.py"
   ]
  },
  {
   "cell_type": "code",
   "execution_count": 7,
   "metadata": {
    "collapsed": false
   },
   "outputs": [
    {
     "name": "stdout",
     "output_type": "stream",
     "text": [
      "[(20000, 100)]\n",
      "('args', {u'clipnorm': 0, u'shuffle': False, u'target_name': u'y', u'validation_file': u'models/spelling/data/wikipedia-valid.h5', u'n_word_dims': 50, u'data_name': [u'X', u'y'], u'extra_train_file': [u'models/spelling/data/wikipedia-train/wikipedia-train-001.h5', u'models/spelling/data/wikipedia-train/wikipedia-train-002.h5', u'models/spelling/data/wikipedia-train/wikipedia-train-003.h5', u'models/spelling/data/wikipedia-train/wikipedia-train-004.h5', u'models/spelling/data/wikipedia-train/wikipedia-train-005.h5', u'models/spelling/data/wikipedia-train/wikipedia-train-006.h5', u'models/spelling/data/wikipedia-train/wikipedia-train-007.h5', u'models/spelling/data/wikipedia-train/wikipedia-train-008.h5', u'models/spelling/data/wikipedia-train/wikipedia-train-009.h5', u'models/spelling/data/wikipedia-train/wikipedia-train-010.h5', u'models/spelling/data/wikipedia-train/wikipedia-train-011.h5', u'models/spelling/data/wikipedia-train/wikipedia-train-012.h5', u'models/spelling/data/wikipedia-train/wikipedia-train-013.h5', u'models/spelling/data/wikipedia-train/wikipedia-train-014.h5', u'models/spelling/data/wikipedia-train/wikipedia-train-015.h5', u'models/spelling/data/wikipedia-train/wikipedia-train-016.h5', u'models/spelling/data/wikipedia-train/wikipedia-train-017.h5', u'models/spelling/data/wikipedia-train/wikipedia-train-018.h5', u'models/spelling/data/wikipedia-train/wikipedia-train-019.h5', u'models/spelling/data/wikipedia-train/wikipedia-train-020.h5', u'models/spelling/data/wikipedia-train/wikipedia-train-021.h5', u'models/spelling/data/wikipedia-train/wikipedia-train-022.h5', u'models/spelling/data/wikipedia-train/wikipedia-train-023.h5', u'models/spelling/data/wikipedia-train/wikipedia-train-024.h5', u'models/spelling/data/wikipedia-train/wikipedia-train-025.h5', u'models/spelling/data/wikipedia-train/wikipedia-train-026.h5', u'models/spelling/data/wikipedia-train/wikipedia-train-027.h5', u'models/spelling/data/wikipedia-train/wikipedia-train-028.h5', u'models/spelling/data/wikipedia-train/wikipedia-train-029.h5', u'models/spelling/data/wikipedia-train/wikipedia-train-030.h5', u'models/spelling/data/wikipedia-train/wikipedia-train-031.h5', u'models/spelling/data/wikipedia-train/wikipedia-train-032.h5', u'models/spelling/data/wikipedia-train/wikipedia-train-033.h5', u'models/spelling/data/wikipedia-train/wikipedia-train-034.h5', u'models/spelling/data/wikipedia-train/wikipedia-train-035.h5', u'models/spelling/data/wikipedia-train/wikipedia-train-036.h5', u'models/spelling/data/wikipedia-train/wikipedia-train-037.h5', u'models/spelling/data/wikipedia-train/wikipedia-train-038.h5', u'models/spelling/data/wikipedia-train/wikipedia-train-039.h5', u'models/spelling/data/wikipedia-train/wikipedia-train-040.h5', u'models/spelling/data/wikipedia-train/wikipedia-train-041.h5', u'models/spelling/data/wikipedia-train/wikipedia-train-042.h5', u'models/spelling/data/wikipedia-train/wikipedia-train-043.h5', u'models/spelling/data/wikipedia-train/wikipedia-train-044.h5', u'models/spelling/data/wikipedia-train/wikipedia-train-045.h5', u'models/spelling/data/wikipedia-train/wikipedia-train-046.h5', u'models/spelling/data/wikipedia-train/wikipedia-train-047.h5', u'models/spelling/data/wikipedia-train/wikipedia-train-048.h5', u'models/spelling/data/wikipedia-train/wikipedia-train-049.h5', u'models/spelling/data/wikipedia-train/wikipedia-train-050.h5', u'models/spelling/data/wikipedia-train/wikipedia-train-051.h5', u'models/spelling/data/wikipedia-train/wikipedia-train-052.h5', u'models/spelling/data/wikipedia-train/wikipedia-train-053.h5', u'models/spelling/data/wikipedia-train/wikipedia-train-054.h5', u'models/spelling/data/wikipedia-train/wikipedia-train-055.h5', u'models/spelling/data/wikipedia-train/wikipedia-train-056.h5', u'models/spelling/data/wikipedia-train/wikipedia-train-057.h5', u'models/spelling/data/wikipedia-train/wikipedia-train-058.h5', u'models/spelling/data/wikipedia-train/wikipedia-train-059.h5', u'models/spelling/data/wikipedia-train/wikipedia-train-060.h5', u'models/spelling/data/wikipedia-train/wikipedia-train-061.h5', u'models/spelling/data/wikipedia-train/wikipedia-train-062.h5', u'models/spelling/data/wikipedia-train/wikipedia-train-063.h5', u'models/spelling/data/wikipedia-train/wikipedia-train-064.h5', u'models/spelling/data/wikipedia-train/wikipedia-train-065.h5', u'models/spelling/data/wikipedia-train/wikipedia-train-066.h5', u'models/spelling/data/wikipedia-train/wikipedia-train-067.h5', u'models/spelling/data/wikipedia-train/wikipedia-train-068.h5', u'models/spelling/data/wikipedia-train/wikipedia-train-069.h5', u'models/spelling/data/wikipedia-train/wikipedia-train-070.h5', u'models/spelling/data/wikipedia-train/wikipedia-train-071.h5', u'models/spelling/data/wikipedia-train/wikipedia-train-072.h5', u'models/spelling/data/wikipedia-train/wikipedia-train-073.h5', u'models/spelling/data/wikipedia-train/wikipedia-train-074.h5', u'models/spelling/data/wikipedia-train/wikipedia-train-075.h5', u'models/spelling/data/wikipedia-train/wikipedia-train-076.h5', u'models/spelling/data/wikipedia-train/wikipedia-train-077.h5', u'models/spelling/data/wikipedia-train/wikipedia-train-078.h5', u'models/spelling/data/wikipedia-train/wikipedia-train-079.h5', u'models/spelling/data/wikipedia-train/wikipedia-train-080.h5', u'models/spelling/data/wikipedia-train/wikipedia-train-081.h5', u'models/spelling/data/wikipedia-train/wikipedia-train-082.h5', u'models/spelling/data/wikipedia-train/wikipedia-train-083.h5', u'models/spelling/data/wikipedia-train/wikipedia-train-084.h5', u'models/spelling/data/wikipedia-train/wikipedia-train-085.h5', u'models/spelling/data/wikipedia-train/wikipedia-train-086.h5', u'models/spelling/data/wikipedia-train/wikipedia-train-087.h5', u'models/spelling/data/wikipedia-train/wikipedia-train-088.h5', u'models/spelling/data/wikipedia-train/wikipedia-train-089.h5', u'models/spelling/data/wikipedia-train/wikipedia-train-090.h5', u'models/spelling/data/wikipedia-train/wikipedia-train-091.h5', u'models/spelling/data/wikipedia-train/wikipedia-train-092.h5', u'models/spelling/data/wikipedia-train/wikipedia-train-093.h5', u'models/spelling/data/wikipedia-train/wikipedia-train-094.h5', u'models/spelling/data/wikipedia-train/wikipedia-train-095.h5', u'models/spelling/data/wikipedia-train/wikipedia-train-096.h5', u'models/spelling/data/wikipedia-train/wikipedia-train-097.h5', u'models/spelling/data/wikipedia-train/wikipedia-train-098.h5', u'models/spelling/data/wikipedia-train/wikipedia-train-099.h5', u'models/spelling/data/wikipedia-train/wikipedia-train-100.h5', u'models/spelling/data/wikipedia-train/wikipedia-train-101.h5', u'models/spelling/data/wikipedia-train/wikipedia-train-102.h5', u'models/spelling/data/wikipedia-train/wikipedia-train-103.h5', u'models/spelling/data/wikipedia-train/wikipedia-train-104.h5', u'models/spelling/data/wikipedia-train/wikipedia-train-105.h5', u'models/spelling/data/wikipedia-train/wikipedia-train-106.h5', u'models/spelling/data/wikipedia-train/wikipedia-train-107.h5', u'models/spelling/data/wikipedia-train/wikipedia-train-108.h5', u'models/spelling/data/wikipedia-train/wikipedia-train-109.h5', u'models/spelling/data/wikipedia-train/wikipedia-train-110.h5', u'models/spelling/data/wikipedia-train/wikipedia-train-111.h5', u'models/spelling/data/wikipedia-train/wikipedia-train-112.h5', u'models/spelling/data/wikipedia-train/wikipedia-train-113.h5', u'models/spelling/data/wikipedia-train/wikipedia-train-114.h5', u'models/spelling/data/wikipedia-train/wikipedia-train-115.h5', u'models/spelling/data/wikipedia-train/wikipedia-train-116.h5', u'models/spelling/data/wikipedia-train/wikipedia-train-117.h5', u'models/spelling/data/wikipedia-train/wikipedia-train-118.h5', u'models/spelling/data/wikipedia-train/wikipedia-train-119.h5', u'models/spelling/data/wikipedia-train/wikipedia-train-120.h5', u'models/spelling/data/wikipedia-train/wikipedia-train-121.h5', u'models/spelling/data/wikipedia-train/wikipedia-train-122.h5', u'models/spelling/data/wikipedia-train/wikipedia-train-123.h5', u'models/spelling/data/wikipedia-train/wikipedia-train-124.h5', u'models/spelling/data/wikipedia-train/wikipedia-train-125.h5', u'models/spelling/data/wikipedia-train/wikipedia-train-126.h5', u'models/spelling/data/wikipedia-train/wikipedia-train-127.h5', u'models/spelling/data/wikipedia-train/wikipedia-train-128.h5', u'models/spelling/data/wikipedia-train/wikipedia-train-129.h5', u'models/spelling/data/wikipedia-train/wikipedia-train-130.h5', u'models/spelling/data/wikipedia-train/wikipedia-train-131.h5', u'models/spelling/data/wikipedia-train/wikipedia-train-132.h5', u'models/spelling/data/wikipedia-train/wikipedia-train-133.h5', u'models/spelling/data/wikipedia-train/wikipedia-train-134.h5', u'models/spelling/data/wikipedia-train/wikipedia-train-135.h5', u'models/spelling/data/wikipedia-train/wikipedia-train-136.h5', u'models/spelling/data/wikipedia-train/wikipedia-train-137.h5', u'models/spelling/data/wikipedia-train/wikipedia-train-138.h5', u'models/spelling/data/wikipedia-train/wikipedia-train-139.h5', u'models/spelling/data/wikipedia-train/wikipedia-train-140.h5', u'models/spelling/data/wikipedia-train/wikipedia-train-141.h5', u'models/spelling/data/wikipedia-train/wikipedia-train-142.h5', u'models/spelling/data/wikipedia-train/wikipedia-train-143.h5', u'models/spelling/data/wikipedia-train/wikipedia-train-144.h5', u'models/spelling/data/wikipedia-train/wikipedia-train-145.h5', u'models/spelling/data/wikipedia-train/wikipedia-train-146.h5', u'models/spelling/data/wikipedia-train/wikipedia-train-147.h5', u'models/spelling/data/wikipedia-train/wikipedia-train-148.h5', u'models/spelling/data/wikipedia-train/wikipedia-train-149.h5', u'models/spelling/data/wikipedia-train/wikipedia-train-150.h5', u'models/spelling/data/wikipedia-train/wikipedia-train-151.h5', u'models/spelling/data/wikipedia-train/wikipedia-train-152.h5', u'models/spelling/data/wikipedia-train/wikipedia-train-153.h5', u'models/spelling/data/wikipedia-train/wikipedia-train-154.h5', u'models/spelling/data/wikipedia-train/wikipedia-train-155.h5', u'models/spelling/data/wikipedia-train/wikipedia-train-156.h5', u'models/spelling/data/wikipedia-train/wikipedia-train-157.h5', u'models/spelling/data/wikipedia-train/wikipedia-train-158.h5', u'models/spelling/data/wikipedia-train/wikipedia-train-159.h5', u'models/spelling/data/wikipedia-train/wikipedia-train-160.h5', u'models/spelling/data/wikipedia-train/wikipedia-train-161.h5', u'models/spelling/data/wikipedia-train/wikipedia-train-162.h5', u'models/spelling/data/wikipedia-train/wikipedia-train-163.h5', u'models/spelling/data/wikipedia-train/wikipedia-train-164.h5', u'models/spelling/data/wikipedia-train/wikipedia-train-165.h5', u'models/spelling/data/wikipedia-train/wikipedia-train-166.h5', u'models/spelling/data/wikipedia-train/wikipedia-train-167.h5', u'models/spelling/data/wikipedia-train/wikipedia-train-168.h5', u'models/spelling/data/wikipedia-train/wikipedia-train-169.h5', u'models/spelling/data/wikipedia-train/wikipedia-train-170.h5', u'models/spelling/data/wikipedia-train/wikipedia-train-171.h5', u'models/spelling/data/wikipedia-train/wikipedia-train-172.h5', u'models/spelling/data/wikipedia-train/wikipedia-train-173.h5', u'models/spelling/data/wikipedia-train/wikipedia-train-174.h5', u'models/spelling/data/wikipedia-train/wikipedia-train-175.h5', u'models/spelling/data/wikipedia-train/wikipedia-train-176.h5', u'models/spelling/data/wikipedia-train/wikipedia-train-177.h5', u'models/spelling/data/wikipedia-train/wikipedia-train-178.h5', u'models/spelling/data/wikipedia-train/wikipedia-train-179.h5', u'models/spelling/data/wikipedia-train/wikipedia-train-180.h5', u'models/spelling/data/wikipedia-train/wikipedia-train-181.h5', u'models/spelling/data/wikipedia-train/wikipedia-train-182.h5', u'models/spelling/data/wikipedia-train/wikipedia-train-183.h5', u'models/spelling/data/wikipedia-train/wikipedia-train-184.h5', u'models/spelling/data/wikipedia-train/wikipedia-train-185.h5', u'models/spelling/data/wikipedia-train/wikipedia-train-186.h5', u'models/spelling/data/wikipedia-train/wikipedia-train-187.h5', u'models/spelling/data/wikipedia-train/wikipedia-train-188.h5', u'models/spelling/data/wikipedia-train/wikipedia-train-189.h5', u'models/spelling/data/wikipedia-train/wikipedia-train-190.h5', u'models/spelling/data/wikipedia-train/wikipedia-train-191.h5', u'models/spelling/data/wikipedia-train/wikipedia-train-192.h5', u'models/spelling/data/wikipedia-train/wikipedia-train-193.h5', u'models/spelling/data/wikipedia-train/wikipedia-train-194.h5', u'models/spelling/data/wikipedia-train/wikipedia-train-195.h5'], u'n_epochs': 100, u'patience': 400, u'input_width': 100, u'dropout_p_conv': 0.1, u'model_cfg': [[u'optimizer', u'Adagrad'], [u'n_filters', 3000], [u'filter_width', 3]], u'classification_report': False, u'filter_width': 3, u'log': True, u'decay': 0.0, u'dense_max_norm': 1000, u'description': None, u'use_difference': False, u'target_data': u'models/spelling/data/wikipedia-target-data.json', u'filter_max_norm': 1000, u'n_classes': 1000, u'embedding_max_norm': 1000, u'n_train': inf, u'momentum': 0.9, u'optimizer': u'Adagrad', u'model_dir': u'models/spelling/convnet', u'learning_rate': 0.1, u'n_validation': inf, u'batch_size': 128, u'regularization_layer': u'dropout+normalization', u'loss': u'categorical_crossentropy', u'dropout_p': 0.5, u'no_save': False, u'model_dest': None, u'n_vocab': 96, u'seed': 17, u'n_filters': 3000, u'error_classes_only': False, u'train_file': u'models/spelling/data/wikipedia-train/wikipedia-train-000.h5', u'l2_penalty': 0.0, u'validation_freq': 10})\n"
     ]
    },
    {
     "name": "stderr",
     "output_type": "stream",
     "text": [
      "Using gpu device 0: GRID K520\n"
     ]
    },
    {
     "ename": "KeyError",
     "evalue": "\"Can't open attribute (Can't locate attribute: 'nb_layers')\"",
     "output_type": "error",
     "traceback": [
      "\u001b[1;31m---------------------------------------------------------------------------\u001b[0m",
      "\u001b[1;31mKeyError\u001b[0m                                  Traceback (most recent call last)",
      "\u001b[1;32m<ipython-input-7-ff68a07edb0d>\u001b[0m in \u001b[0;36m<module>\u001b[1;34m()\u001b[0m\n\u001b[1;32m----> 1\u001b[1;33m \u001b[0mmodel\u001b[0m\u001b[1;33m,\u001b[0m \u001b[0mdata\u001b[0m\u001b[1;33m,\u001b[0m \u001b[0mtarget_one_hot\u001b[0m\u001b[1;33m,\u001b[0m \u001b[0mtarget\u001b[0m \u001b[1;33m=\u001b[0m \u001b[0mload_model\u001b[0m\u001b[1;33m(\u001b[0m\u001b[0mmodel_dir\u001b[0m\u001b[1;33m)\u001b[0m\u001b[1;33m\u001b[0m\u001b[0m\n\u001b[0m\u001b[0;32m      2\u001b[0m \u001b[0mn_classes\u001b[0m \u001b[1;33m=\u001b[0m \u001b[0mtarget_one_hot\u001b[0m\u001b[1;33m.\u001b[0m\u001b[0mshape\u001b[0m\u001b[1;33m[\u001b[0m\u001b[1;36m1\u001b[0m\u001b[1;33m]\u001b[0m\u001b[1;33m\u001b[0m\u001b[0m\n\u001b[0;32m      3\u001b[0m \u001b[1;33m\u001b[0m\u001b[0m\n\u001b[0;32m      4\u001b[0m \u001b[0mprobs\u001b[0m \u001b[1;33m=\u001b[0m \u001b[0mmodel\u001b[0m\u001b[1;33m.\u001b[0m\u001b[0mpredict_proba\u001b[0m\u001b[1;33m(\u001b[0m\u001b[0mdata\u001b[0m\u001b[1;33m,\u001b[0m \u001b[0mverbose\u001b[0m\u001b[1;33m=\u001b[0m\u001b[1;36m1\u001b[0m\u001b[1;33m)\u001b[0m\u001b[1;33m\u001b[0m\u001b[0m\n\u001b[0;32m      5\u001b[0m \u001b[0mpreds\u001b[0m \u001b[1;33m=\u001b[0m \u001b[0mnp\u001b[0m\u001b[1;33m.\u001b[0m\u001b[0margmax\u001b[0m\u001b[1;33m(\u001b[0m\u001b[0mprobs\u001b[0m\u001b[1;33m,\u001b[0m \u001b[0maxis\u001b[0m\u001b[1;33m=\u001b[0m\u001b[1;36m1\u001b[0m\u001b[1;33m)\u001b[0m\u001b[1;33m\u001b[0m\u001b[0m\n",
      "\u001b[1;32m/work/ndronen/proj/misc/keras/load_model.py\u001b[0m in \u001b[0;36mload_model\u001b[1;34m(model_dir, input_file_arg)\u001b[0m\n\u001b[0;32m     43\u001b[0m \u001b[1;33m\u001b[0m\u001b[0m\n\u001b[0;32m     44\u001b[0m     \u001b[1;31m# Load the saved weights.\u001b[0m\u001b[1;33m\u001b[0m\u001b[1;33m\u001b[0m\u001b[0m\n\u001b[1;32m---> 45\u001b[1;33m     \u001b[0mmodel\u001b[0m\u001b[1;33m.\u001b[0m\u001b[0mload_weights\u001b[0m\u001b[1;33m(\u001b[0m\u001b[0mmodel_dir\u001b[0m \u001b[1;33m+\u001b[0m \u001b[1;34m'/model.h5'\u001b[0m\u001b[1;33m)\u001b[0m\u001b[1;33m\u001b[0m\u001b[0m\n\u001b[0m\u001b[0;32m     46\u001b[0m \u001b[1;33m\u001b[0m\u001b[0m\n\u001b[0;32m     47\u001b[0m     results = {\n",
      "\u001b[1;32m/home/ndronen/miniconda/lib/python2.7/site-packages/keras/models.pyc\u001b[0m in \u001b[0;36mload_weights\u001b[1;34m(self, filepath)\u001b[0m\n\u001b[0;32m    561\u001b[0m         \u001b[1;32mimport\u001b[0m \u001b[0mh5py\u001b[0m\u001b[1;33m\u001b[0m\u001b[0m\n\u001b[0;32m    562\u001b[0m         \u001b[0mf\u001b[0m \u001b[1;33m=\u001b[0m \u001b[0mh5py\u001b[0m\u001b[1;33m.\u001b[0m\u001b[0mFile\u001b[0m\u001b[1;33m(\u001b[0m\u001b[0mfilepath\u001b[0m\u001b[1;33m)\u001b[0m\u001b[1;33m\u001b[0m\u001b[0m\n\u001b[1;32m--> 563\u001b[1;33m         \u001b[1;32mfor\u001b[0m \u001b[0mk\u001b[0m \u001b[1;32min\u001b[0m \u001b[0mrange\u001b[0m\u001b[1;33m(\u001b[0m\u001b[0mf\u001b[0m\u001b[1;33m.\u001b[0m\u001b[0mattrs\u001b[0m\u001b[1;33m[\u001b[0m\u001b[1;34m'nb_layers'\u001b[0m\u001b[1;33m]\u001b[0m\u001b[1;33m)\u001b[0m\u001b[1;33m:\u001b[0m\u001b[1;33m\u001b[0m\u001b[0m\n\u001b[0m\u001b[0;32m    564\u001b[0m             \u001b[0mg\u001b[0m \u001b[1;33m=\u001b[0m \u001b[0mf\u001b[0m\u001b[1;33m[\u001b[0m\u001b[1;34m'layer_{}'\u001b[0m\u001b[1;33m.\u001b[0m\u001b[0mformat\u001b[0m\u001b[1;33m(\u001b[0m\u001b[0mk\u001b[0m\u001b[1;33m)\u001b[0m\u001b[1;33m]\u001b[0m\u001b[1;33m\u001b[0m\u001b[0m\n\u001b[0;32m    565\u001b[0m             \u001b[0mweights\u001b[0m \u001b[1;33m=\u001b[0m \u001b[1;33m[\u001b[0m\u001b[0mg\u001b[0m\u001b[1;33m[\u001b[0m\u001b[1;34m'param_{}'\u001b[0m\u001b[1;33m.\u001b[0m\u001b[0mformat\u001b[0m\u001b[1;33m(\u001b[0m\u001b[0mp\u001b[0m\u001b[1;33m)\u001b[0m\u001b[1;33m]\u001b[0m \u001b[1;32mfor\u001b[0m \u001b[0mp\u001b[0m \u001b[1;32min\u001b[0m \u001b[0mrange\u001b[0m\u001b[1;33m(\u001b[0m\u001b[0mg\u001b[0m\u001b[1;33m.\u001b[0m\u001b[0mattrs\u001b[0m\u001b[1;33m[\u001b[0m\u001b[1;34m'nb_params'\u001b[0m\u001b[1;33m]\u001b[0m\u001b[1;33m)\u001b[0m\u001b[1;33m]\u001b[0m\u001b[1;33m\u001b[0m\u001b[0m\n",
      "\u001b[1;32mh5py/_objects.pyx\u001b[0m in \u001b[0;36mh5py._objects.with_phil.wrapper (-------src-dir-------/h5py/_objects.c:2458)\u001b[1;34m()\u001b[0m\n",
      "\u001b[1;32mh5py/_objects.pyx\u001b[0m in \u001b[0;36mh5py._objects.with_phil.wrapper (-------src-dir-------/h5py/_objects.c:2415)\u001b[1;34m()\u001b[0m\n",
      "\u001b[1;32m/home/ndronen/miniconda/lib/python2.7/site-packages/h5py/_hl/attrs.pyc\u001b[0m in \u001b[0;36m__getitem__\u001b[1;34m(self, name)\u001b[0m\n\u001b[0;32m     50\u001b[0m         \"\"\" Read the value of an attribute.\n\u001b[0;32m     51\u001b[0m         \"\"\"\n\u001b[1;32m---> 52\u001b[1;33m         \u001b[0mattr\u001b[0m \u001b[1;33m=\u001b[0m \u001b[0mh5a\u001b[0m\u001b[1;33m.\u001b[0m\u001b[0mopen\u001b[0m\u001b[1;33m(\u001b[0m\u001b[0mself\u001b[0m\u001b[1;33m.\u001b[0m\u001b[0m_id\u001b[0m\u001b[1;33m,\u001b[0m \u001b[0mself\u001b[0m\u001b[1;33m.\u001b[0m\u001b[0m_e\u001b[0m\u001b[1;33m(\u001b[0m\u001b[0mname\u001b[0m\u001b[1;33m)\u001b[0m\u001b[1;33m)\u001b[0m\u001b[1;33m\u001b[0m\u001b[0m\n\u001b[0m\u001b[0;32m     53\u001b[0m \u001b[1;33m\u001b[0m\u001b[0m\n\u001b[0;32m     54\u001b[0m         \u001b[1;32mif\u001b[0m \u001b[0mattr\u001b[0m\u001b[1;33m.\u001b[0m\u001b[0mget_space\u001b[0m\u001b[1;33m(\u001b[0m\u001b[1;33m)\u001b[0m\u001b[1;33m.\u001b[0m\u001b[0mget_simple_extent_type\u001b[0m\u001b[1;33m(\u001b[0m\u001b[1;33m)\u001b[0m \u001b[1;33m==\u001b[0m \u001b[0mh5s\u001b[0m\u001b[1;33m.\u001b[0m\u001b[0mNULL\u001b[0m\u001b[1;33m:\u001b[0m\u001b[1;33m\u001b[0m\u001b[0m\n",
      "\u001b[1;32mh5py/_objects.pyx\u001b[0m in \u001b[0;36mh5py._objects.with_phil.wrapper (-------src-dir-------/h5py/_objects.c:2458)\u001b[1;34m()\u001b[0m\n",
      "\u001b[1;32mh5py/_objects.pyx\u001b[0m in \u001b[0;36mh5py._objects.with_phil.wrapper (-------src-dir-------/h5py/_objects.c:2415)\u001b[1;34m()\u001b[0m\n",
      "\u001b[1;32mh5py/h5a.pyx\u001b[0m in \u001b[0;36mh5py.h5a.open (-------src-dir-------/h5py/h5a.c:2062)\u001b[1;34m()\u001b[0m\n",
      "\u001b[1;31mKeyError\u001b[0m: \"Can't open attribute (Can't locate attribute: 'nb_layers')\""
     ]
    }
   ],
   "source": [
    "model, data, target_one_hot, target = load_model(model_dir)\n",
    "n_classes = target_one_hot.shape[1]\n",
    "\n",
    "probs = model.predict_proba(data, verbose=1)\n",
    "preds = np.argmax(probs, axis=1)\n",
    "ranks = np.zeros_like(preds)\n",
    "\n",
    "for i in range(len(preds)):\n",
    "    inorder = np.argsort(probs[i, :])\n",
    "    ranks[i] = n_classes - np.where(inorder == target[i])[0]"
   ]
  },
  {
   "cell_type": "code",
   "execution_count": null,
   "metadata": {
    "collapsed": true
   },
   "outputs": [],
   "source": []
  }
 ],
 "metadata": {
  "kernelspec": {
   "display_name": "Python 2",
   "language": "python",
   "name": "python2"
  },
  "language_info": {
   "codemirror_mode": {
    "name": "ipython",
    "version": 2
   },
   "file_extension": ".py",
   "mimetype": "text/x-python",
   "name": "python",
   "nbconvert_exporter": "python",
   "pygments_lexer": "ipython2",
   "version": "2.7.10"
  }
 },
 "nbformat": 4,
 "nbformat_minor": 0
}
